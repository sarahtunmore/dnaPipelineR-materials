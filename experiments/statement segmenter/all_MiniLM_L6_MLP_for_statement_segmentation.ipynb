{
 "cells": [
  {
   "cell_type": "code",
   "execution_count": null,
   "metadata": {
    "colab": {
     "base_uri": "https://localhost:8080/",
     "height": 572,
     "referenced_widgets": [
      "73afc08ccd1b4779bdf15df127025668",
      "45e6100eae424e289011a8c2004dbf3d",
      "19e6b0682f86483785709a7d7ae2f912",
      "abebc21e97f945dcbf0f822388feb3b7",
      "b8e4890ef9ea4f51af816da6f9cd17b1",
      "15b88c4b253649a48237d42091fe67c0",
      "5d9a76521b274e1fbd3e5b5a19436c24",
      "c4d279abcefc4006837086c9d86bf9de",
      "931c2fa472b144afac00ab6ac3a65c95",
      "12a6088b393f45f08421c2d8855746ca",
      "e04643a39fdc4d168fda32eb4777606d",
      "9e1b6019b2ac41f1830d6486f07f7bfb",
      "3ac2e7bd6777454e88fda6e9bb0ae9f9",
      "c329c205ce4f4eae81cdf575cd1e26ac",
      "71ca2aeaa5d545949b5f1c3932a8e367",
      "e3cf1fbedfe74286835fb1eaadfaeaef",
      "7ac86b64cb3745c08048946413ba40e1",
      "02efe9695b574bb199ee2a4e8786cbf3",
      "0193300567054a5399340d2a2b1128a8",
      "13e087e4c8cf42cf866413847a21948e",
      "9a51169535fd4892bda741b360dda7d8",
      "35d169d796ed4c73940dc6e3553ba85c",
      "7d32dd7c2eff4dd5a6cc90d181fadded",
      "59878bcdda5f492ca062d98f9c433833",
      "1a444fa8950e40d0995ed5dc92d68ccc",
      "95845dcede6a453bbaaa73e7e3afa596",
      "cf3a4e453a6b4c7682c564eac76a699e",
      "37c23f44cd7b4fc39e98e886f4c95e29",
      "2524f8d4f9164b07b5b256af70827d0b",
      "1be5e715c48d4532a016c389213301dc",
      "78471a7a3693459ca7536bb10845adc4",
      "a451a507ee664faf8d089382c16945e3",
      "c68cd032a2524b488656117b2a19703f",
      "3ea834e100f54373a5884312d915c60a",
      "143d663cf3d344c98f81d17931c2faf9",
      "69838e69c80e46cfb903634d78933f1a",
      "901ebdfb0fc84152a72463d7b93e9875",
      "23b44b6fe471442cb779dc27de2df70b",
      "e0ce1a2a448b407cb1bc1299a904a726",
      "2e68b1bd7a5f43098c7766d1991b06ae",
      "ffa8c43b2adf4d22b3c496c2be194c4b",
      "111b16d9a0084cf8aa4bfe294aa469c9",
      "ad6464054a614a8a881e9be707089a0c",
      "6a6d7c48766e41d181c2aef287751996",
      "881f9c724fa841caa1ef8f4a8ffd0823",
      "9ae5da447de642e3a91cbd3f6e58010b",
      "fb387c082f9d470f9f38eac36cfc4769",
      "cd1db37bb9e34888b7dbab49ef8c5dad",
      "db364ca35c7544c88aaf3f0488fe4512",
      "3b595a4ca7da45b8b116460968459b6d",
      "1584a35dda784fc589107dc27ea51f9d",
      "0d59f587b1b0436da732a040e0e0d947",
      "a87fce5967904db585507495f6226de4",
      "a1a6032f9fa64b2bbda71fda9a9a78ea",
      "085a38a5d96941f98eb07261974cdaa1",
      "f7ed5d2d3fe54a1a9a0138acaaa6f2b8",
      "915bf9c74ccb4c3d9b605491ad9f381b",
      "6a75770875a64530b3a0045acc211f7f",
      "8b09f0e853c64c1082958b5d393b793a",
      "54595fe0abc142038210e64aca98ba58",
      "c1b77a531e9d457982b5aa0924e957e0",
      "0b6d6c94eb954e0d87cd1f3b9570dffb",
      "b1ed01e30b274b65ad44ecc0fbed11c8",
      "1c85d6b3962d4d1f82ac2983b14ed632",
      "9e4a4b1b91c24f45a826848798e33078",
      "32f362f2a96040838ebd7717a8afdadd",
      "432274cca52d4fe5bc17613e84d23593",
      "868c3be97ac64f3cb773594acf70bd0c",
      "ff900c36924f417bbe5a818f63d576ba",
      "41a790ea89c1471791c9f73373e08da8",
      "b49ef286cb0b463b8b292183e726ccd1",
      "60b964abbb14431d803196701eb5086f",
      "c1cb64e4cd74499dac071657609a6d12",
      "8749b63521634f72b21a3a9199250b8e",
      "d0c4881ea72d484ab801198b783420c7",
      "885763b74cf84e05b19e16c419bc6687",
      "dc72e2278e454164922beb2c8644cbec",
      "cc7d395d4c7948cb9e847c2949243bc7",
      "d3009d7d8df244e3a2798b425906de56",
      "b8b4c62e6bdf45a193a8bb5b83c90fbb",
      "077720f1c63145329c2ea36c6e27a30d",
      "8f37539f4c154ce98fdc081afb48d60a",
      "14670de8ed7244c88d63ee110afe8f46",
      "639145bc7bc64e9fad9caca2396e3a51",
      "720f1e6365574306a6cd648c566ffa0e",
      "f10ca1eeeea74f70b71a7cd11a6c3606",
      "200f90665b334689a6c29bd3bee717df",
      "9fb4c67020b841f5a2708296288eef42",
      "10f5a3bd29b441569b7d1349a929cf93",
      "b720add5116c462aa940bb74697751ab",
      "4c8bb82f5ff249c9a768592413c7365c",
      "7de49c5d562b48d1aaef06878868af11",
      "eb0b54dcc3a74953902433a0d8c16b6e",
      "8d4a951da78343e597c56685f5dde013",
      "86a31419edd44c32b4594125c2238ef2",
      "4ec29ee32ad24fe9a528cb09272cb941",
      "1d7abe6a745142eeb133251b7368029a",
      "4f82e11f9e8a4d5191406f96fd8ae7e8",
      "3932c47cdc3446dbab73e6250833c023",
      "2bdd1e35c90444f2baf3ce7eab77314c",
      "2ddd6050781f48b7a9601647339bdb3f",
      "295bedbcf255459eb2c09115d0734f79",
      "e0f2f9f336e74bfbb06ed07465873329",
      "db9a6b1f2dcb4d7f8f0e2777614acfd5",
      "74f2f65e5354494cb67eec0d0664368d",
      "a1f301e3e5f64c46896568f1cccb37e8",
      "d78379d8c82646b2a2affae73e1f518a",
      "984932f29f574a3ea991fd7de7e02bfa",
      "8988dbad9fb04a82948393917e4b779c",
      "6697daef6b7c48598fbfdf0c3da4fb4b",
      "4b03fd68d03b4fffb099384cb18d6c4a",
      "9ff81dfbd72b421680528f81a11604c1",
      "72872c2deba8434c939049e4db3b0e47",
      "5aa14d0fc8e94de19d1c893d9b9a20b7",
      "d033f004b19d487e99b1068510ad62e2",
      "4527f3371fa34141a712a6d506bec4e3",
      "983fc0bf845c44cd8d44485f2ac0a72b",
      "15460194bede495c98d4a182dd621893",
      "379c98409a9445a0aa5ccb4ef7ad72a0",
      "8676b47bddf94c12a12f0dc7da8d688a",
      "45192be930f349d48a0180c9bcebda05"
     ]
    }
   },
   "outputs": [
    {
     "data": {
      "text/html": [
       "\n",
       "     <input type=\"file\" id=\"files-79d8df48-1cd1-4b74-9ef3-3baf72c7a8c3\" name=\"files[]\" multiple disabled\n",
       "        style=\"border:none\" />\n",
       "     <output id=\"result-79d8df48-1cd1-4b74-9ef3-3baf72c7a8c3\">\n",
       "      Upload widget is only available when the cell has been executed in the\n",
       "      current browser session. Please rerun this cell to enable.\n",
       "      </output>\n",
       "      <script>// Copyright 2017 Google LLC\n",
       "//\n",
       "// Licensed under the Apache License, Version 2.0 (the \"License\");\n",
       "// you may not use this file except in compliance with the License.\n",
       "// You may obtain a copy of the License at\n",
       "//\n",
       "//      http://www.apache.org/licenses/LICENSE-2.0\n",
       "//\n",
       "// Unless required by applicable law or agreed to in writing, software\n",
       "// distributed under the License is distributed on an \"AS IS\" BASIS,\n",
       "// WITHOUT WARRANTIES OR CONDITIONS OF ANY KIND, either express or implied.\n",
       "// See the License for the specific language governing permissions and\n",
       "// limitations under the License.\n",
       "\n",
       "/**\n",
       " * @fileoverview Helpers for google.colab Python module.\n",
       " */\n",
       "(function(scope) {\n",
       "function span(text, styleAttributes = {}) {\n",
       "  const element = document.createElement('span');\n",
       "  element.textContent = text;\n",
       "  for (const key of Object.keys(styleAttributes)) {\n",
       "    element.style[key] = styleAttributes[key];\n",
       "  }\n",
       "  return element;\n",
       "}\n",
       "\n",
       "// Max number of bytes which will be uploaded at a time.\n",
       "const MAX_PAYLOAD_SIZE = 100 * 1024;\n",
       "\n",
       "function _uploadFiles(inputId, outputId) {\n",
       "  const steps = uploadFilesStep(inputId, outputId);\n",
       "  const outputElement = document.getElementById(outputId);\n",
       "  // Cache steps on the outputElement to make it available for the next call\n",
       "  // to uploadFilesContinue from Python.\n",
       "  outputElement.steps = steps;\n",
       "\n",
       "  return _uploadFilesContinue(outputId);\n",
       "}\n",
       "\n",
       "// This is roughly an async generator (not supported in the browser yet),\n",
       "// where there are multiple asynchronous steps and the Python side is going\n",
       "// to poll for completion of each step.\n",
       "// This uses a Promise to block the python side on completion of each step,\n",
       "// then passes the result of the previous step as the input to the next step.\n",
       "function _uploadFilesContinue(outputId) {\n",
       "  const outputElement = document.getElementById(outputId);\n",
       "  const steps = outputElement.steps;\n",
       "\n",
       "  const next = steps.next(outputElement.lastPromiseValue);\n",
       "  return Promise.resolve(next.value.promise).then((value) => {\n",
       "    // Cache the last promise value to make it available to the next\n",
       "    // step of the generator.\n",
       "    outputElement.lastPromiseValue = value;\n",
       "    return next.value.response;\n",
       "  });\n",
       "}\n",
       "\n",
       "/**\n",
       " * Generator function which is called between each async step of the upload\n",
       " * process.\n",
       " * @param {string} inputId Element ID of the input file picker element.\n",
       " * @param {string} outputId Element ID of the output display.\n",
       " * @return {!Iterable<!Object>} Iterable of next steps.\n",
       " */\n",
       "function* uploadFilesStep(inputId, outputId) {\n",
       "  const inputElement = document.getElementById(inputId);\n",
       "  inputElement.disabled = false;\n",
       "\n",
       "  const outputElement = document.getElementById(outputId);\n",
       "  outputElement.innerHTML = '';\n",
       "\n",
       "  const pickedPromise = new Promise((resolve) => {\n",
       "    inputElement.addEventListener('change', (e) => {\n",
       "      resolve(e.target.files);\n",
       "    });\n",
       "  });\n",
       "\n",
       "  const cancel = document.createElement('button');\n",
       "  inputElement.parentElement.appendChild(cancel);\n",
       "  cancel.textContent = 'Cancel upload';\n",
       "  const cancelPromise = new Promise((resolve) => {\n",
       "    cancel.onclick = () => {\n",
       "      resolve(null);\n",
       "    };\n",
       "  });\n",
       "\n",
       "  // Wait for the user to pick the files.\n",
       "  const files = yield {\n",
       "    promise: Promise.race([pickedPromise, cancelPromise]),\n",
       "    response: {\n",
       "      action: 'starting',\n",
       "    }\n",
       "  };\n",
       "\n",
       "  cancel.remove();\n",
       "\n",
       "  // Disable the input element since further picks are not allowed.\n",
       "  inputElement.disabled = true;\n",
       "\n",
       "  if (!files) {\n",
       "    return {\n",
       "      response: {\n",
       "        action: 'complete',\n",
       "      }\n",
       "    };\n",
       "  }\n",
       "\n",
       "  for (const file of files) {\n",
       "    const li = document.createElement('li');\n",
       "    li.append(span(file.name, {fontWeight: 'bold'}));\n",
       "    li.append(span(\n",
       "        `(${file.type || 'n/a'}) - ${file.size} bytes, ` +\n",
       "        `last modified: ${\n",
       "            file.lastModifiedDate ? file.lastModifiedDate.toLocaleDateString() :\n",
       "                                    'n/a'} - `));\n",
       "    const percent = span('0% done');\n",
       "    li.appendChild(percent);\n",
       "\n",
       "    outputElement.appendChild(li);\n",
       "\n",
       "    const fileDataPromise = new Promise((resolve) => {\n",
       "      const reader = new FileReader();\n",
       "      reader.onload = (e) => {\n",
       "        resolve(e.target.result);\n",
       "      };\n",
       "      reader.readAsArrayBuffer(file);\n",
       "    });\n",
       "    // Wait for the data to be ready.\n",
       "    let fileData = yield {\n",
       "      promise: fileDataPromise,\n",
       "      response: {\n",
       "        action: 'continue',\n",
       "      }\n",
       "    };\n",
       "\n",
       "    // Use a chunked sending to avoid message size limits. See b/62115660.\n",
       "    let position = 0;\n",
       "    do {\n",
       "      const length = Math.min(fileData.byteLength - position, MAX_PAYLOAD_SIZE);\n",
       "      const chunk = new Uint8Array(fileData, position, length);\n",
       "      position += length;\n",
       "\n",
       "      const base64 = btoa(String.fromCharCode.apply(null, chunk));\n",
       "      yield {\n",
       "        response: {\n",
       "          action: 'append',\n",
       "          file: file.name,\n",
       "          data: base64,\n",
       "        },\n",
       "      };\n",
       "\n",
       "      let percentDone = fileData.byteLength === 0 ?\n",
       "          100 :\n",
       "          Math.round((position / fileData.byteLength) * 100);\n",
       "      percent.textContent = `${percentDone}% done`;\n",
       "\n",
       "    } while (position < fileData.byteLength);\n",
       "  }\n",
       "\n",
       "  // All done.\n",
       "  yield {\n",
       "    response: {\n",
       "      action: 'complete',\n",
       "    }\n",
       "  };\n",
       "}\n",
       "\n",
       "scope.google = scope.google || {};\n",
       "scope.google.colab = scope.google.colab || {};\n",
       "scope.google.colab._files = {\n",
       "  _uploadFiles,\n",
       "  _uploadFilesContinue,\n",
       "};\n",
       "})(self);\n",
       "</script> "
      ],
      "text/plain": [
       "<IPython.core.display.HTML object>"
      ]
     },
     "metadata": {},
     "output_type": "display_data"
    },
    {
     "name": "stdout",
     "output_type": "stream",
     "text": [
      "Saving 512_each_statements_nonstatements_chunks.xlsx to 512_each_statements_nonstatements_chunks.xlsx\n"
     ]
    },
    {
     "name": "stderr",
     "output_type": "stream",
     "text": [
      "/usr/local/lib/python3.12/dist-packages/huggingface_hub/utils/_auth.py:94: UserWarning: \n",
      "The secret `HF_TOKEN` does not exist in your Colab secrets.\n",
      "To authenticate with the Hugging Face Hub, create a token in your settings tab (https://huggingface.co/settings/tokens), set it as secret in your Google Colab and restart your session.\n",
      "You will be able to reuse this secret in all of your notebooks.\n",
      "Please note that authentication is recommended but still optional to access public models or datasets.\n",
      "  warnings.warn(\n"
     ]
    },
    {
     "data": {
      "application/vnd.jupyter.widget-view+json": {
       "model_id": "73afc08ccd1b4779bdf15df127025668",
       "version_major": 2,
       "version_minor": 0
      },
      "text/plain": [
       "modules.json:   0%|          | 0.00/349 [00:00<?, ?B/s]"
      ]
     },
     "metadata": {},
     "output_type": "display_data"
    },
    {
     "data": {
      "application/vnd.jupyter.widget-view+json": {
       "model_id": "9e1b6019b2ac41f1830d6486f07f7bfb",
       "version_major": 2,
       "version_minor": 0
      },
      "text/plain": [
       "config_sentence_transformers.json:   0%|          | 0.00/116 [00:00<?, ?B/s]"
      ]
     },
     "metadata": {},
     "output_type": "display_data"
    },
    {
     "data": {
      "application/vnd.jupyter.widget-view+json": {
       "model_id": "7d32dd7c2eff4dd5a6cc90d181fadded",
       "version_major": 2,
       "version_minor": 0
      },
      "text/plain": [
       "README.md: 0.00B [00:00, ?B/s]"
      ]
     },
     "metadata": {},
     "output_type": "display_data"
    },
    {
     "data": {
      "application/vnd.jupyter.widget-view+json": {
       "model_id": "3ea834e100f54373a5884312d915c60a",
       "version_major": 2,
       "version_minor": 0
      },
      "text/plain": [
       "sentence_bert_config.json:   0%|          | 0.00/53.0 [00:00<?, ?B/s]"
      ]
     },
     "metadata": {},
     "output_type": "display_data"
    },
    {
     "data": {
      "application/vnd.jupyter.widget-view+json": {
       "model_id": "881f9c724fa841caa1ef8f4a8ffd0823",
       "version_major": 2,
       "version_minor": 0
      },
      "text/plain": [
       "config.json:   0%|          | 0.00/612 [00:00<?, ?B/s]"
      ]
     },
     "metadata": {},
     "output_type": "display_data"
    },
    {
     "data": {
      "application/vnd.jupyter.widget-view+json": {
       "model_id": "f7ed5d2d3fe54a1a9a0138acaaa6f2b8",
       "version_major": 2,
       "version_minor": 0
      },
      "text/plain": [
       "model.safetensors:   0%|          | 0.00/90.9M [00:00<?, ?B/s]"
      ]
     },
     "metadata": {},
     "output_type": "display_data"
    },
    {
     "data": {
      "application/vnd.jupyter.widget-view+json": {
       "model_id": "432274cca52d4fe5bc17613e84d23593",
       "version_major": 2,
       "version_minor": 0
      },
      "text/plain": [
       "tokenizer_config.json:   0%|          | 0.00/350 [00:00<?, ?B/s]"
      ]
     },
     "metadata": {},
     "output_type": "display_data"
    },
    {
     "data": {
      "application/vnd.jupyter.widget-view+json": {
       "model_id": "cc7d395d4c7948cb9e847c2949243bc7",
       "version_major": 2,
       "version_minor": 0
      },
      "text/plain": [
       "vocab.txt: 0.00B [00:00, ?B/s]"
      ]
     },
     "metadata": {},
     "output_type": "display_data"
    },
    {
     "data": {
      "application/vnd.jupyter.widget-view+json": {
       "model_id": "10f5a3bd29b441569b7d1349a929cf93",
       "version_major": 2,
       "version_minor": 0
      },
      "text/plain": [
       "tokenizer.json: 0.00B [00:00, ?B/s]"
      ]
     },
     "metadata": {},
     "output_type": "display_data"
    },
    {
     "data": {
      "application/vnd.jupyter.widget-view+json": {
       "model_id": "2bdd1e35c90444f2baf3ce7eab77314c",
       "version_major": 2,
       "version_minor": 0
      },
      "text/plain": [
       "special_tokens_map.json:   0%|          | 0.00/112 [00:00<?, ?B/s]"
      ]
     },
     "metadata": {},
     "output_type": "display_data"
    },
    {
     "data": {
      "application/vnd.jupyter.widget-view+json": {
       "model_id": "4b03fd68d03b4fffb099384cb18d6c4a",
       "version_major": 2,
       "version_minor": 0
      },
      "text/plain": [
       "config.json:   0%|          | 0.00/190 [00:00<?, ?B/s]"
      ]
     },
     "metadata": {},
     "output_type": "display_data"
    }
   ],
   "source": [
    "# Importing Libraries\n",
    "import pandas as pd\n",
    "import numpy as np\n",
    "import re\n",
    "import spacy\n",
    "from sentence_transformers import SentenceTransformer\n",
    "\n",
    "from sklearn.model_selection import StratifiedKFold, cross_validate, cross_val_predict\n",
    "from sklearn.preprocessing import StandardScaler, normalize\n",
    "from sklearn.neural_network import MLPClassifier\n",
    "from sklearn.metrics import (\n",
    "    make_scorer, accuracy_score, precision_score, recall_score, f1_score,\n",
    "    confusion_matrix, classification_report\n",
    ")\n",
    "\n",
    "# Load Training Data\n",
    "from google.colab import files\n",
    "uploaded = files.upload()\n",
    "\n",
    "df = pd.read_excel(\"512_each_statements_nonstatements_chunks.xlsx\")\n",
    "\n",
    "# Identify text column, force string\n",
    "text_col = 'text' if 'text' in df.columns else df.columns[0]\n",
    "df[text_col] = df[text_col].astype(str)\n",
    "\n",
    "# Ensure label exists and is 0/1\n",
    "assert \"label\" in df.columns, \"Expected a 'label' column with 0/1.\"\n",
    "texts = df[text_col].tolist()\n",
    "y = np.array(df[\"label\"].tolist(), dtype=int)\n",
    "\n",
    "# Load Models\n",
    "nlp = spacy.load(\"en_core_web_sm\")\n",
    "sbert = SentenceTransformer(\"all-MiniLM-L6-v2\")"
   ]
  },
  {
   "cell_type": "code",
   "execution_count": null,
   "metadata": {},
   "outputs": [],
   "source": [
    "# Feature Engineering\n",
    "def extract_features(text):\n",
    "    doc = nlp(text)\n",
    "    pos_tags = [token.pos_ for token in doc]\n",
    "\n",
    "    return {\n",
    "        \"starts_with_modal\": int(bool(re.match(r\"^(should|must|can|will|would|shall)\\b\", text.lower()))),\n",
    "        \"contains_question_mark\": int(\"?\" in text),\n",
    "        \"length_tokens\": len(text.split()),\n",
    "        \"contains_numbers\": int(bool(re.search(r\"\\d\", text))),\n",
    "        \"starts_with_amendment_term\": int(bool(re.match(r\"^(amendment|clause|section)\\b\", text.lower()))),\n",
    "        \"has_actor_reference\": int(bool(re.search(r\"\\b(we|government|minist(er|ry))\\b\", text.lower()))),\n",
    "        \"has_modal_verb\": int(bool(re.search(r\"\\b(should|must|can|could|might|will|shall|would|may)\\b\", text.lower()))),\n",
    "        \"has_adj_or_adv\": int(\"ADJ\" in pos_tags or \"ADV\" in pos_tags)\n",
    "    }\n"
   ]
  },
  {
   "cell_type": "code",
   "execution_count": null,
   "metadata": {
    "colab": {
     "base_uri": "https://localhost:8080/",
     "height": 49,
     "referenced_widgets": [
      "110e86628c0246b192ebf07ec52ff3c5",
      "5576b4e7d1e6447da74759b04a882b87",
      "76c89998e7cc42f9b8874934b8eacf2f",
      "f52ed405cdb14662b33837ba123c33ce",
      "27a14f016d5b42c1899e95c4af3ae7f5",
      "2b0bbc3d0ccd4d34a95592efa594148a",
      "bb646c26995a4a979c86d0ee10ba56e5",
      "104eb58ef4e1408ca7585747df8b5a1e",
      "286600aabd08484790ae7dec74550b6c",
      "88779183b59844168438a541dc7686d3",
      "42aa1e25db324a58bd0da8b5735d55f6"
     ]
    }
   },
   "outputs": [
    {
     "data": {
      "application/vnd.jupyter.widget-view+json": {
       "model_id": "110e86628c0246b192ebf07ec52ff3c5",
       "version_major": 2,
       "version_minor": 0
      },
      "text/plain": [
       "Batches:   0%|          | 0/32 [00:00<?, ?it/s]"
      ]
     },
     "metadata": {},
     "output_type": "display_data"
    }
   ],
   "source": [
    "# Extract Features\n",
    "feature_df = pd.DataFrame([extract_features(t) for t in texts])\n",
    "feature_cols = feature_df.columns.tolist()\n",
    "\n",
    "# SBERT Embeddings\n",
    "embeddings = sbert.encode(texts, show_progress_bar=True)\n",
    "embeddings = np.asarray(embeddings, dtype=np.float32)\n",
    "\n",
    "# L2-normalise embeddings\n",
    "embeddings = normalize(embeddings, norm=\"l2\")\n",
    "\n",
    "# Standardise Features\n",
    "scaler = StandardScaler()\n",
    "features_scaled = scaler.fit_transform(feature_df.values.astype(np.float32))\n",
    "\n",
    "# Combine\n",
    "X_combined = np.hstack([embeddings, features_scaled])\n",
    "\n",
    "# CV Setup\n",
    "cv = StratifiedKFold(n_splits=5, shuffle=True, random_state=42)\n",
    "\n",
    "# Defining Scoring Metrics\n",
    "scoring = {\n",
    "    \"accuracy\": \"accuracy\",\n",
    "    \"precision_statement\": make_scorer(precision_score, pos_label=1),\n",
    "    \"recall_statement\": make_scorer(recall_score, pos_label=1),\n",
    "    \"f1_statement\": make_scorer(f1_score, pos_label=1),\n",
    "    \"f1_macro\": \"f1_macro\",\n",
    "}\n"
   ]
  },
  {
   "cell_type": "code",
   "execution_count": null,
   "metadata": {
    "colab": {
     "base_uri": "https://localhost:8080/"
    }
   },
   "outputs": [
    {
     "name": "stdout",
     "output_type": "stream",
     "text": [
      "\n",
      "Running 5-fold cross-validation...\n",
      "\n",
      "CV mean ± std (5-fold):\n",
      "              accuracy: 0.860 ± 0.015\n",
      "   precision_statement: 0.845 ± 0.014\n",
      "      recall_statement: 0.883 ± 0.038\n",
      "          f1_statement: 0.863 ± 0.017\n",
      "              f1_macro: 0.860 ± 0.015\n",
      "\n",
      "Generating out-of-fold predictions for confusion matrix & error inspection...\n",
      "\n",
      "Out-of-fold confusion matrix (rows=true, cols=pred):\n",
      "[[429  83]\n",
      " [ 60 452]]\n",
      "\n",
      "False positives (non-statement → statement): 83\n",
      "False negatives (statement → non-statement): 60\n",
      "\n",
      "Classification report (OOF):\n",
      "               precision    recall  f1-score   support\n",
      "\n",
      "non-statement       0.88      0.84      0.86       512\n",
      "    statement       0.84      0.88      0.86       512\n",
      "\n",
      "     accuracy                           0.86      1024\n",
      "    macro avg       0.86      0.86      0.86      1024\n",
      " weighted avg       0.86      0.86      0.86      1024\n",
      "\n"
     ]
    }
   ],
   "source": [
    "# Making the MLP\n",
    "mlp = MLPClassifier(\n",
    "    hidden_layer_sizes=(256,),\n",
    "    activation=\"relu\",\n",
    "    solver=\"adam\",\n",
    "    alpha=0.001,\n",
    "    learning_rate_init=0.001,\n",
    "    max_iter=500,\n",
    "    early_stopping=True,\n",
    "    validation_fraction=0.1,\n",
    "    random_state=42\n",
    ")\n",
    "\n",
    "# Cross Validated Metrics\n",
    "print(\"\\nRunning 5-fold cross-validation...\")\n",
    "cv_results = cross_validate(\n",
    "    mlp, X_combined, y, cv=cv, scoring=scoring, return_train_score=False, n_jobs=-1\n",
    ")\n",
    "\n",
    "print(\"\\nCV mean ± std (5-fold):\")\n",
    "for k in [\"test_accuracy\", \"test_precision_statement\", \"test_recall_statement\", \"test_f1_statement\", \"test_f1_macro\"]:\n",
    "    mean_k = np.mean(cv_results[k])\n",
    "    std_k = np.std(cv_results[k])\n",
    "    print(f\"{k.replace('test_', ''):>22}: {mean_k:.3f} ± {std_k:.3f}\")\n",
    "\n",
    "# Out of fold predictions and confusion matrix\n",
    "print(\"\\nGenerating out-of-fold predictions for confusion matrix & error inspection...\")\n",
    "y_pred_oof = cross_val_predict(mlp, X_combined, y, cv=cv, n_jobs=-1)\n",
    "\n",
    "cm = confusion_matrix(y, y_pred_oof, labels=[0, 1])\n",
    "tn, fp, fn, tp = cm.ravel()\n",
    "\n",
    "print(\"\\nOut-of-fold confusion matrix (rows=true, cols=pred):\")\n",
    "print(cm)\n",
    "print(f\"\\nFalse positives (non-statement → statement): {fp}\")\n",
    "print(f\"False negatives (statement → non-statement): {fn}\")\n",
    "\n",
    "print(\"\\nClassification report (OOF):\")\n",
    "print(classification_report(y, y_pred_oof, target_names=[\"non-statement\", \"statement\"]))\n"
   ]
  },
  {
   "cell_type": "code",
   "execution_count": null,
   "metadata": {
    "colab": {
     "base_uri": "https://localhost:8080/"
    }
   },
   "outputs": [
    {
     "name": "stdout",
     "output_type": "stream",
     "text": [
      "\n",
      "=== A few False Positives (pred=statement, true=non-statement) ===\n",
      "\n",
      "🟠 False Positive 1:\n",
      "(1C) If the member of the trade union does not provide a renewal opt-in, the trade union must provide a date by which the member must notify the trade union of their consent to continued contribution towards the political fund, which must be no earlier than 28 days before the next payment to the political fund is due.\n",
      "\n",
      "🟠 False Positive 2:\n",
      "It is similar to how other regulators operate, such as the Health and Safety Executive.\n",
      "\n",
      "🟠 False Positive 3:\n",
      "This new clause would establish a clearer right to strike and remove provisions from the Trade Union and Labour Relations (Consolidation) Act 1992 that make strike action unlawful on the grounds that it turns out (retrospectively) that the action the worker took was unofficial.\n",
      "\n",
      "🟠 False Positive 4:\n",
      "The Government should be able to support these amendments.\n",
      "\n",
      "🟠 False Positive 5:\n",
      "Currently, when an individual wishes to take the option of making themselves bankrupt, they must complete a paper petition and present it to their local court.\n",
      "\n",
      "🟠 False Positive 6:\n",
      "With regard to complex cases, will the Minister explain just what happens for those debtors who feel that they need the full and more robust process and who do not initially get the support that they are looking for when they apply?\n",
      "\n",
      "🟠 False Positive 7:\n",
      "Carers UK’s research also tells us that almost half of all those who left employment early to fulfil a caring responsibility say that they would have stayed in employment longer, had carer’s leave on a paid basis existed.\n",
      "\n",
      "🟠 False Positive 8:\n",
      "The Government’s plan to make work pay is a core part of our mission to grow the economy, raise living standards across the country and create opportunities for all.\n",
      "\n",
      "🟠 False Positive 9:\n",
      "“and in particular to encourage the extension of collective bargaining and the development and, where necessary, reform of collective bargaining machinery.””\n",
      "\n",
      "🟠 False Positive 10:\n",
      "Members to support the Bill and the amendments that we are moving today, which show that we are pro-business, pro-worker, pro-family and pro-growth.\n",
      "\n",
      "=== A few False Negatives (pred=non-statement, true=statement) ===\n",
      "\n",
      "🔵 False Negative 1:\n",
      "The tightening up that he proposes is very welcome. When does he think he will set out the detail—[Interruption.] When will he set out the detail of, for example, the period of time that someone must work before being offered a zero-hours contract?\n",
      "\n",
      "🔵 False Negative 2:\n",
      "This brings the provision in line with other changes to unfair dismissal.\n",
      "\n",
      "🔵 False Negative 3:\n",
      " This will happen after we have consulted, ensuring that it balances the needs of a growing business with the interests of employees.\n",
      "\n",
      "🔵 False Negative 4:\n",
      "These amendments will ensure that these provisions work as intended.\n",
      "\n",
      "🔵 False Negative 5:\n",
      "In our “Plan to Make Work Pay”, we committed to establishing a fair earnings replacement for lower earners.\n",
      "\n",
      "🔵 False Negative 6:\n",
      "The Committee’s inquiry demonstrated a clear gap in support for those who experience pregnancy loss and need time to recover and grieve.\n",
      "\n",
      "🔵 False Negative 7:\n",
      "Bereavement is not an illness or a holiday, and it needs its own special category.\n",
      "\n",
      "🔵 False Negative 8:\n",
      "The Government are pressing ahead with plans to implement the provisions relevant to NDAs in the Victims and Prisoners Act 2024 and the Higher Education (Freedom of Speech) Act 2023.\n",
      "\n",
      "🔵 False Negative 9:\n",
      "Boosting wages will increase workforce participation, helping employers fill vacancies and supporting us to reach our ambition of 80% employment.\n",
      "\n",
      "🔵 False Negative 10:\n",
      "I think the hon. Gentleman is referring to the ban on exploitative zero-hours contracts, but if somebody wants a flexible hours contract, then that is a good thing, and nothing in the changes prevents that.\n"
     ]
    }
   ],
   "source": [
    "# Preview a few false positives / negatives\n",
    "false_positives = [text for text, true, pred in zip(texts, y, y_pred_oof) if true == 0 and pred == 1]\n",
    "false_negatives = [text for text, true, pred in zip(texts, y, y_pred_oof) if true == 1 and pred == 0]\n",
    "\n",
    "print(\"\\n=== A few False Positives (pred=statement, true=non-statement) ===\")\n",
    "for i, fp_text in enumerate(false_positives[:10], start=1):\n",
    "    print(f\"\\n🟠 False Positive {i}:\\n{fp_text}\")\n",
    "\n",
    "print(\"\\n=== A few False Negatives (pred=non-statement, true=statement) ===\")\n",
    "for i, fn_text in enumerate(false_negatives[:10], start=1):\n",
    "    print(f\"\\n🔵 False Negative {i}:\\n{fn_text}\")\n"
   ]
  },
  {
   "cell_type": "code",
   "execution_count": null,
   "metadata": {
    "colab": {
     "base_uri": "https://localhost:8080/",
     "height": 1000
    }
   },
   "outputs": [
    {
     "data": {
      "image/png": "[encoded data removed]",
      "text/plain": [
       "<Figure size 500x400 with 1 Axes>"
      ]
     },
     "metadata": {},
     "output_type": "display_data"
    },
    {
     "data": {
      "image/png": "[encoded data removed]",
      "text/plain": [
       "<Figure size 600x400 with 1 Axes>"
      ]
     },
     "metadata": {},
     "output_type": "display_data"
    },
    {
     "data": {
      "image/png": "[encoded data removed]",
      "text/plain": [
       "<Figure size 600x400 with 1 Axes>"
      ]
     },
     "metadata": {},
     "output_type": "display_data"
    }
   ],
   "source": [
    "# Visualising Metrics\n",
    "import matplotlib.pyplot as plt\n",
    "import seaborn as sns\n",
    "from sklearn.metrics import (\n",
    "    ConfusionMatrixDisplay, precision_recall_curve, average_precision_score,\n",
    "    roc_curve, auc\n",
    ")\n",
    "\n",
    "# Confusion Matrix\n",
    "plt.figure(figsize=(5,4))\n",
    "sns.heatmap(cm, annot=True, fmt=\"d\", cmap=\"Blues\", cbar=False,\n",
    "            xticklabels=[\"non-statement\",\"statement\"],\n",
    "            yticklabels=[\"non-statement\",\"statement\"])\n",
    "plt.xlabel(\"Predicted\")\n",
    "plt.ylabel(\"True\")\n",
    "plt.title(\"Confusion Matrix (Out-of-Fold)\")\n",
    "plt.show()\n",
    "\n",
    "# Precision-Recall Curve\n",
    "y_scores = cross_val_predict(mlp, X_combined, y, cv=cv, method=\"predict_proba\")[:,1]\n",
    "prec, rec, thresh = precision_recall_curve(y, y_scores)\n",
    "ap = average_precision_score(y, y_scores)\n",
    "\n",
    "plt.figure(figsize=(6,4))\n",
    "plt.plot(rec, prec, label=f\"PR curve (AP = {ap:.3f})\")\n",
    "plt.xlabel(\"Recall\")\n",
    "plt.ylabel(\"Precision\")\n",
    "plt.title(\"Precision–Recall Curve (Out-of-Fold)\")\n",
    "plt.legend()\n",
    "plt.grid(True)\n",
    "plt.show()\n",
    "\n",
    "# ROC Curve\n",
    "fpr, tpr, thresh = roc_curve(y, y_scores)\n",
    "roc_auc = auc(fpr, tpr)\n",
    "\n",
    "plt.figure(figsize=(6,4))\n",
    "plt.plot(fpr, tpr, label=f\"ROC curve (AUC = {roc_auc:.3f})\")\n",
    "plt.plot([0,1],[0,1],\"--\", color=\"grey\")\n",
    "plt.xlabel(\"False Positive Rate\")\n",
    "plt.ylabel(\"True Positive Rate (Recall)\")\n",
    "plt.title(\"ROC Curve (Out-of-Fold)\")\n",
    "plt.legend(loc=\"lower right\")\n",
    "plt.grid(True)\n",
    "plt.show()\n"
   ]
  },
  {
   "cell_type": "code",
   "execution_count": null,
   "metadata": {
    "colab": {
     "base_uri": "https://localhost:8080/"
    }
   },
   "outputs": [
    {
     "data": {
      "text/plain": [
       "['MLP_statement_segmenter.joblib']"
      ]
     },
     "execution_count": 36,
     "metadata": {},
     "output_type": "execute_result"
    }
   ],
   "source": [
    "# Save the trained model\n",
    "mlp.fit(X_combined, y)\n",
    "joblib.dump(\n",
    "    {\"model\": mlp, \"scaler\": scaler, \"feature_cols\": feature_cols},\n",
    "    \"MLP_statement_segmenter.joblib\"\n",
    ")\n"
   ]
  }
 ],
 "metadata": {
  "kernelspec": {
   "display_name": "Python 3",
   "name": "python3"
  }
 },
 "nbformat": 4,
 "nbformat_minor": 0
}
