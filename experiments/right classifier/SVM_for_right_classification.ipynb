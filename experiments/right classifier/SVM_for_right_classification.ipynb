{
 "cells": [
  {
   "cell_type": "markdown",
   "metadata": {},
   "source": [
    "\n",
    "\n",
    "---\n",
    "\n",
    "\n",
    "# Right Classifier\n",
    "\n",
    "\n",
    "---\n",
    "\n"
   ]
  },
  {
   "cell_type": "code",
   "execution_count": 1,
   "metadata": {
    "colab": {
     "base_uri": "https://localhost:8080/",
     "height": 1000,
     "referenced_widgets": [
      "1648d110a08d49588a388d3a3d15efda",
      "2e1d285a43414ffe893f119906fa5eb5",
      "5e4ba85d485c445a9edbaaf1f5ccfffc",
      "af023a925ad940ae91b09f765a7ebc3b",
      "ef9b96910e744245ac53625280b35aa8",
      "adaad88e50f04cf7839a59a40f6cd6ef",
      "d240c64c3c8144f8baee66cd6cd897a7",
      "982bc81414d74c8c854de047267011c5",
      "52ee3543069944bab75cfb0a14e87c3e",
      "7df8ac9ba8f2470d852c8f0ffba38667",
      "cb0fb944a6984b738334fdee289afcc2",
      "475b159b27eb4e238ee78f3b76ffc740",
      "e9e0fa8372964c759ad8ee301e8935d0",
      "325ebb9a1fe7436f98a9bf2a671b6b04",
      "73408050fc7247f188b2bf9c6183a762",
      "f39022d65e9b481daa8e5b56ca10aa80",
      "68688b6003924c05ab9717ce20ae1460",
      "9744bd9625594fc7a8e27691f68e6f21",
      "a229155be1ab482692c49fb6ead2f41c",
      "33ee7e8e6b92429cb45ac881425496af",
      "612353519e7c44808dd38d7e91605724",
      "8f3c462448cd4f838a57898c58fe5d0a",
      "78d21e0419d24b848871fade75b2b5dd",
      "091a3c924db74d548a2ff2b923147c68",
      "b515ef2452b643f9ba859ff2b833a715",
      "10aac16a71c143ff9379e38668247ad3",
      "c004ba7d59ba4c1cbcf95d93b1c372b0",
      "aa0131e6868b492490fd2b38a844f3ed",
      "cb911cc1b5e54b9abd39e5855ee418c6",
      "7109323d92cc45cb82a3d40cd9da7be3",
      "484810b5230f4aca8815d4e2747e49ff",
      "ba3e5901433740a984c3ebf0b8bc1403",
      "17dd58f29dae44b9a0c773ed2ea960fa",
      "7c3d525f832e473dadbfd1073a307ffe",
      "d60f3820273548eb9d83651fcbf9b586",
      "31a6c815f9934fa194fa7a730477317b",
      "9ce1321277f24815be6eeb6572662738",
      "709149ef6f814179a72b10f6f6c02e08",
      "8cebf98b60154c958c90657023bddbf7",
      "3120f832e5da4710a1be92ac8960e9eb",
      "2471927eb8084c1c90a87fcefcb063ff",
      "b2ddeca0ae5e46ff9edfe9f3056f7b1d",
      "65a658f52bed4915b70da3d8926f7732",
      "c4ed9328433548ee8a4bf1c45b7a8e0a",
      "60c66bf0c8514461aea7c1f5fe8beff7",
      "069baf8dd1b049c0870b3b2d62e7c921",
      "d029ea637cf64eec999b53fbb03a1ce1",
      "c74e41e03861486c88d5b48a7b8f37d5",
      "9386202496bf4fd6ae4eaa2627716760",
      "aa90a66c57db460fb5b50a999c35731d",
      "0abbe4b2cb0444efac34e438d2dd5a57",
      "c4dddaf0e308466ebf534df3b9039bad",
      "2444810607954a8ca749f3063cd5cd3c",
      "a6040e6e22924704b60e5085bc5a613f",
      "fadcc5eeedb14768b9f6ae4d3aa35c50",
      "bae3f7452b77421faa6fa33111b8bf4c",
      "530ed9100444494e96437fa229c1a298",
      "a4191d221194410a828cc28487c67b40",
      "bfd0d35fe48c4ae0b1081c77124f3c48",
      "45aff956d6a2497ebc570a4b2ac199d1",
      "40722ee1d02744379f65185d93a14228",
      "1c780af1d61a49298e0018d53f8bff1f",
      "752b360795e94a00a3e1707b486ab6c1",
      "f3bb756d1abc459ba7b66a77030bd9d8",
      "2592ce0e06774c56b05604c1efa78525",
      "d6a48e21ad9a498d89b089b509b12016",
      "10f3cf0d94e54f2791b2618927204459",
      "f1f26f32b31042e79d414a393476f44c",
      "7535a79e937e41d68a10bb899a2d9a84",
      "f5be672acb0b4d0a9f1639737ce8918a",
      "597736431f014bd2bd20da085e9029b2",
      "e8db945c52c144ed98bee9566fe8d580",
      "3c9ef3a983084db68ff4c20dd8d554bc",
      "600fdc9bcf84401aae8c2d485a3075ac",
      "48d636a6aee442ad8f2d184df71f47e5",
      "5c53f3b86a24423d8095b45023dade3e",
      "c56c888fad3143b196b52141dbd0bba0",
      "1d0a701760604df6bd659a38137bd5e8",
      "924ebcc753e648d1a48878a47ff1dd9c",
      "d7778491b6ca47b1bf2f27bbb1b1d255",
      "8804d1c0e2774408ba8ead1f56d62723",
      "73101aa69e234386b4c3b4b0c70ff840",
      "065d26f7dbbd4e1dbd11af6dcaa5be27",
      "3e1620eaa3cb4fa28f1618e6615a8d76",
      "cc4edf1ebc024858a7c641242f537957",
      "bec1e58890b94d47afddd7ad9c75c33f",
      "659dee8d0719470fbfbb74df29e6608d",
      "3f77611d3fff486090b4eb5bd3d6c659",
      "3cca584443b647b08b1892fddd8d02a8",
      "381e8399c16d4419a5df1fb272f1a00e",
      "0dee4265a0bc4f4e82d7ff2f2000a1ae",
      "d2ca7897e34f4c508109846a035bf69f",
      "2d69397765084e7ea94a2e73142d46ae",
      "424d0d65e8c546e38910a1c44ae97cad",
      "a6af5cc19e9243da843dfa402c831832",
      "f502900e5c6c48098f239c946c0e45e9",
      "a0a5f920d99446f19129404b86b267fe",
      "5e14629ff36f41b2ae1c35304ca0417b",
      "41e13bab674b4443a32cce5c18e190ed",
      "9bdb77ef232f4e2bb7d3148d748d0110",
      "3f88f6e0738344fe95dcde1eb06edefc",
      "bb71353c8e8b4731a8708ffb97c04f35",
      "55aad1abaea941b1ba6b96fef6da1cb7",
      "c37fcd374cad40c79f2b4ac9863c1728",
      "f5f65119a5ed47adb09cacc0cef4521f",
      "6938f55c95244c57a8bb1637dd1b5ac7",
      "cfe518c5c00040d5bc7d3b4c2bdf4b0b",
      "2474d820217a4ffb88964944a6f38219",
      "c61cd551e9be47edb4c3b1a708ddb5ea",
      "2608daf0f01d45ef86a9a45e3e874ac9",
      "a9d523a9d50946eb82a8b89c28c1dbb4",
      "172359d6dead465d8d433db14d8408d5",
      "f2273e32a05b4a8dac97ac36b56f181c",
      "0d382cdaa1ee4b0e9e80d2043c36cdc9",
      "ed44e97cf1ee4fe0a6a67e9067f0c639",
      "18a8a22fee85487cbc2e29a90b841f6a",
      "fafed07b91d244f5adb18a402113f86e",
      "2caeaa9e2cb54b18b0b27f88633924c5",
      "8185da2331a24197acd05d9111a98de5",
      "612bdaca578e44e2a2daa0afd2737cd0",
      "98e0072a9cca43a18e9e169e968cfe72",
      "26fb8ecd202143738faee6d182d79931",
      "0e0a53137540431d901fb3a06a64f1bf",
      "2e053fe61e5c4384abfb91b60aecdcf6",
      "39d3793eded54db7b42797081a4bb840",
      "885ab9156418438bb5be66ac238ee640",
      "7873d1d80f8843b0a1cf558f32da3d12",
      "a69252e601a049889ee4f3a8e465b974",
      "5ab8fb7791e44adb894988aff4223143",
      "eaa8e21773554a3eac932035b237d54f",
      "9bc2226648f843a485c49aa51484f359",
      "76b7ae1c517f44e4b3d08b1a49dba7d5",
      "ee41863b6b7042ca93c5150f7c3a64eb",
      "06fa24d893c14dea815453ef683d1812",
      "7719492ccf3f48a686cb0b1f6e58ef34",
      "6600f4e4d693467ea19ddd2fef0b1280",
      "d84af6ee1beb4729986446e416ccf341",
      "e79a8306955147edb031e0e03c7ea6c9",
      "bccca069a9ce4398b6c5a976ccad3b1e",
      "a6d3cba850c444a19e888fdeeee76090",
      "7d69dccb98cf4e118c431a635a64dab0",
      "6afa94a9b7564fe78597a494045c41e0",
      "666d37deca3248d6ac97a01e7088f4b1"
     ]
    }
   },
   "outputs": [
    {
     "data": {
      "text/html": [
       "\n",
       "     <input type=\"file\" id=\"files-c5b6b01c-1f79-487d-a443-58327fb129b0\" name=\"files[]\" multiple disabled\n",
       "        style=\"border:none\" />\n",
       "     <output id=\"result-c5b6b01c-1f79-487d-a443-58327fb129b0\">\n",
       "      Upload widget is only available when the cell has been executed in the\n",
       "      current browser session. Please rerun this cell to enable.\n",
       "      </output>\n",
       "      <script>// Copyright 2017 Google LLC\n",
       "//\n",
       "// Licensed under the Apache License, Version 2.0 (the \"License\");\n",
       "// you may not use this file except in compliance with the License.\n",
       "// You may obtain a copy of the License at\n",
       "//\n",
       "//      http://www.apache.org/licenses/LICENSE-2.0\n",
       "//\n",
       "// Unless required by applicable law or agreed to in writing, software\n",
       "// distributed under the License is distributed on an \"AS IS\" BASIS,\n",
       "// WITHOUT WARRANTIES OR CONDITIONS OF ANY KIND, either express or implied.\n",
       "// See the License for the specific language governing permissions and\n",
       "// limitations under the License.\n",
       "\n",
       "/**\n",
       " * @fileoverview Helpers for google.colab Python module.\n",
       " */\n",
       "(function(scope) {\n",
       "function span(text, styleAttributes = {}) {\n",
       "  const element = document.createElement('span');\n",
       "  element.textContent = text;\n",
       "  for (const key of Object.keys(styleAttributes)) {\n",
       "    element.style[key] = styleAttributes[key];\n",
       "  }\n",
       "  return element;\n",
       "}\n",
       "\n",
       "// Max number of bytes which will be uploaded at a time.\n",
       "const MAX_PAYLOAD_SIZE = 100 * 1024;\n",
       "\n",
       "function _uploadFiles(inputId, outputId) {\n",
       "  const steps = uploadFilesStep(inputId, outputId);\n",
       "  const outputElement = document.getElementById(outputId);\n",
       "  // Cache steps on the outputElement to make it available for the next call\n",
       "  // to uploadFilesContinue from Python.\n",
       "  outputElement.steps = steps;\n",
       "\n",
       "  return _uploadFilesContinue(outputId);\n",
       "}\n",
       "\n",
       "// This is roughly an async generator (not supported in the browser yet),\n",
       "// where there are multiple asynchronous steps and the Python side is going\n",
       "// to poll for completion of each step.\n",
       "// This uses a Promise to block the python side on completion of each step,\n",
       "// then passes the result of the previous step as the input to the next step.\n",
       "function _uploadFilesContinue(outputId) {\n",
       "  const outputElement = document.getElementById(outputId);\n",
       "  const steps = outputElement.steps;\n",
       "\n",
       "  const next = steps.next(outputElement.lastPromiseValue);\n",
       "  return Promise.resolve(next.value.promise).then((value) => {\n",
       "    // Cache the last promise value to make it available to the next\n",
       "    // step of the generator.\n",
       "    outputElement.lastPromiseValue = value;\n",
       "    return next.value.response;\n",
       "  });\n",
       "}\n",
       "\n",
       "/**\n",
       " * Generator function which is called between each async step of the upload\n",
       " * process.\n",
       " * @param {string} inputId Element ID of the input file picker element.\n",
       " * @param {string} outputId Element ID of the output display.\n",
       " * @return {!Iterable<!Object>} Iterable of next steps.\n",
       " */\n",
       "function* uploadFilesStep(inputId, outputId) {\n",
       "  const inputElement = document.getElementById(inputId);\n",
       "  inputElement.disabled = false;\n",
       "\n",
       "  const outputElement = document.getElementById(outputId);\n",
       "  outputElement.innerHTML = '';\n",
       "\n",
       "  const pickedPromise = new Promise((resolve) => {\n",
       "    inputElement.addEventListener('change', (e) => {\n",
       "      resolve(e.target.files);\n",
       "    });\n",
       "  });\n",
       "\n",
       "  const cancel = document.createElement('button');\n",
       "  inputElement.parentElement.appendChild(cancel);\n",
       "  cancel.textContent = 'Cancel upload';\n",
       "  const cancelPromise = new Promise((resolve) => {\n",
       "    cancel.onclick = () => {\n",
       "      resolve(null);\n",
       "    };\n",
       "  });\n",
       "\n",
       "  // Wait for the user to pick the files.\n",
       "  const files = yield {\n",
       "    promise: Promise.race([pickedPromise, cancelPromise]),\n",
       "    response: {\n",
       "      action: 'starting',\n",
       "    }\n",
       "  };\n",
       "\n",
       "  cancel.remove();\n",
       "\n",
       "  // Disable the input element since further picks are not allowed.\n",
       "  inputElement.disabled = true;\n",
       "\n",
       "  if (!files) {\n",
       "    return {\n",
       "      response: {\n",
       "        action: 'complete',\n",
       "      }\n",
       "    };\n",
       "  }\n",
       "\n",
       "  for (const file of files) {\n",
       "    const li = document.createElement('li');\n",
       "    li.append(span(file.name, {fontWeight: 'bold'}));\n",
       "    li.append(span(\n",
       "        `(${file.type || 'n/a'}) - ${file.size} bytes, ` +\n",
       "        `last modified: ${\n",
       "            file.lastModifiedDate ? file.lastModifiedDate.toLocaleDateString() :\n",
       "                                    'n/a'} - `));\n",
       "    const percent = span('0% done');\n",
       "    li.appendChild(percent);\n",
       "\n",
       "    outputElement.appendChild(li);\n",
       "\n",
       "    const fileDataPromise = new Promise((resolve) => {\n",
       "      const reader = new FileReader();\n",
       "      reader.onload = (e) => {\n",
       "        resolve(e.target.result);\n",
       "      };\n",
       "      reader.readAsArrayBuffer(file);\n",
       "    });\n",
       "    // Wait for the data to be ready.\n",
       "    let fileData = yield {\n",
       "      promise: fileDataPromise,\n",
       "      response: {\n",
       "        action: 'continue',\n",
       "      }\n",
       "    };\n",
       "\n",
       "    // Use a chunked sending to avoid message size limits. See b/62115660.\n",
       "    let position = 0;\n",
       "    do {\n",
       "      const length = Math.min(fileData.byteLength - position, MAX_PAYLOAD_SIZE);\n",
       "      const chunk = new Uint8Array(fileData, position, length);\n",
       "      position += length;\n",
       "\n",
       "      const base64 = btoa(String.fromCharCode.apply(null, chunk));\n",
       "      yield {\n",
       "        response: {\n",
       "          action: 'append',\n",
       "          file: file.name,\n",
       "          data: base64,\n",
       "        },\n",
       "      };\n",
       "\n",
       "      let percentDone = fileData.byteLength === 0 ?\n",
       "          100 :\n",
       "          Math.round((position / fileData.byteLength) * 100);\n",
       "      percent.textContent = `${percentDone}% done`;\n",
       "\n",
       "    } while (position < fileData.byteLength);\n",
       "  }\n",
       "\n",
       "  // All done.\n",
       "  yield {\n",
       "    response: {\n",
       "      action: 'complete',\n",
       "    }\n",
       "  };\n",
       "}\n",
       "\n",
       "scope.google = scope.google || {};\n",
       "scope.google.colab = scope.google.colab || {};\n",
       "scope.google.colab._files = {\n",
       "  _uploadFiles,\n",
       "  _uploadFilesContinue,\n",
       "};\n",
       "})(self);\n",
       "</script> "
      ],
      "text/plain": [
       "<IPython.core.display.HTML object>"
      ]
     },
     "metadata": {},
     "output_type": "display_data"
    },
    {
     "name": "stdout",
     "output_type": "stream",
     "text": [
      "Saving MANUALLY_ANNOTATED_DATA.xlsx to MANUALLY_ANNOTATED_DATA.xlsx\n",
      "Encoding SBERT embeddings...\n"
     ]
    },
    {
     "name": "stderr",
     "output_type": "stream",
     "text": [
      "/usr/local/lib/python3.12/dist-packages/huggingface_hub/utils/_auth.py:94: UserWarning: \n",
      "The secret `HF_TOKEN` does not exist in your Colab secrets.\n",
      "To authenticate with the Hugging Face Hub, create a token in your settings tab (https://huggingface.co/settings/tokens), set it as secret in your Google Colab and restart your session.\n",
      "You will be able to reuse this secret in all of your notebooks.\n",
      "Please note that authentication is recommended but still optional to access public models or datasets.\n",
      "  warnings.warn(\n"
     ]
    },
    {
     "data": {
      "application/vnd.jupyter.widget-view+json": {
       "model_id": "1648d110a08d49588a388d3a3d15efda",
       "version_major": 2,
       "version_minor": 0
      },
      "text/plain": [
       "modules.json:   0%|          | 0.00/229 [00:00<?, ?B/s]"
      ]
     },
     "metadata": {},
     "output_type": "display_data"
    },
    {
     "data": {
      "application/vnd.jupyter.widget-view+json": {
       "model_id": "475b159b27eb4e238ee78f3b76ffc740",
       "version_major": 2,
       "version_minor": 0
      },
      "text/plain": [
       "config_sentence_transformers.json:   0%|          | 0.00/122 [00:00<?, ?B/s]"
      ]
     },
     "metadata": {},
     "output_type": "display_data"
    },
    {
     "data": {
      "application/vnd.jupyter.widget-view+json": {
       "model_id": "78d21e0419d24b848871fade75b2b5dd",
       "version_major": 2,
       "version_minor": 0
      },
      "text/plain": [
       "README.md: 0.00B [00:00, ?B/s]"
      ]
     },
     "metadata": {},
     "output_type": "display_data"
    },
    {
     "data": {
      "application/vnd.jupyter.widget-view+json": {
       "model_id": "7c3d525f832e473dadbfd1073a307ffe",
       "version_major": 2,
       "version_minor": 0
      },
      "text/plain": [
       "sentence_bert_config.json:   0%|          | 0.00/53.0 [00:00<?, ?B/s]"
      ]
     },
     "metadata": {},
     "output_type": "display_data"
    },
    {
     "data": {
      "application/vnd.jupyter.widget-view+json": {
       "model_id": "60c66bf0c8514461aea7c1f5fe8beff7",
       "version_major": 2,
       "version_minor": 0
      },
      "text/plain": [
       "config.json:   0%|          | 0.00/723 [00:00<?, ?B/s]"
      ]
     },
     "metadata": {},
     "output_type": "display_data"
    },
    {
     "data": {
      "application/vnd.jupyter.widget-view+json": {
       "model_id": "bae3f7452b77421faa6fa33111b8bf4c",
       "version_major": 2,
       "version_minor": 0
      },
      "text/plain": [
       "model.safetensors:   0%|          | 0.00/1.11G [00:00<?, ?B/s]"
      ]
     },
     "metadata": {},
     "output_type": "display_data"
    },
    {
     "data": {
      "application/vnd.jupyter.widget-view+json": {
       "model_id": "10f3cf0d94e54f2791b2618927204459",
       "version_major": 2,
       "version_minor": 0
      },
      "text/plain": [
       "tokenizer_config.json:   0%|          | 0.00/402 [00:00<?, ?B/s]"
      ]
     },
     "metadata": {},
     "output_type": "display_data"
    },
    {
     "data": {
      "application/vnd.jupyter.widget-view+json": {
       "model_id": "1d0a701760604df6bd659a38137bd5e8",
       "version_major": 2,
       "version_minor": 0
      },
      "text/plain": [
       "sentencepiece.bpe.model:   0%|          | 0.00/5.07M [00:00<?, ?B/s]"
      ]
     },
     "metadata": {},
     "output_type": "display_data"
    },
    {
     "data": {
      "application/vnd.jupyter.widget-view+json": {
       "model_id": "3cca584443b647b08b1892fddd8d02a8",
       "version_major": 2,
       "version_minor": 0
      },
      "text/plain": [
       "tokenizer.json: 0.00B [00:00, ?B/s]"
      ]
     },
     "metadata": {},
     "output_type": "display_data"
    },
    {
     "data": {
      "application/vnd.jupyter.widget-view+json": {
       "model_id": "9bdb77ef232f4e2bb7d3148d748d0110",
       "version_major": 2,
       "version_minor": 0
      },
      "text/plain": [
       "special_tokens_map.json:   0%|          | 0.00/239 [00:00<?, ?B/s]"
      ]
     },
     "metadata": {},
     "output_type": "display_data"
    },
    {
     "data": {
      "application/vnd.jupyter.widget-view+json": {
       "model_id": "a9d523a9d50946eb82a8b89c28c1dbb4",
       "version_major": 2,
       "version_minor": 0
      },
      "text/plain": [
       "config.json:   0%|          | 0.00/190 [00:00<?, ?B/s]"
      ]
     },
     "metadata": {},
     "output_type": "display_data"
    },
    {
     "data": {
      "application/vnd.jupyter.widget-view+json": {
       "model_id": "26fb8ecd202143738faee6d182d79931",
       "version_major": 2,
       "version_minor": 0
      },
      "text/plain": [
       "Batches:   0%|          | 0/22 [00:00<?, ?it/s]"
      ]
     },
     "metadata": {},
     "output_type": "display_data"
    },
    {
     "data": {
      "application/vnd.jupyter.widget-view+json": {
       "model_id": "ee41863b6b7042ca93c5150f7c3a64eb",
       "version_major": 2,
       "version_minor": 0
      },
      "text/plain": [
       "Batches:   0%|          | 0/6 [00:00<?, ?it/s]"
      ]
     },
     "metadata": {},
     "output_type": "display_data"
    },
    {
     "name": "stdout",
     "output_type": "stream",
     "text": [
      "Training linear SVM (C=1, no class weights, no probabilities)...\n",
      "Saved: right_sbert_model.joblib, right_label_encoder.joblib, right_model_config.joblib\n",
      "\n",
      "Top-1 Accuracy: 0.711\n",
      " Macro P/R/F1: 0.536 / 0.469 / 0.477\n",
      " Weighted P/R/F1: 0.699 / 0.711 / 0.698\n",
      "\n",
      " Classification report (Top-1):\n",
      "               precision    recall  f1-score   support\n",
      "\n",
      "       EQUAL      0.250     0.143     0.182         7\n",
      "     GENERAL      0.756     0.775     0.765        80\n",
      "    SECURITY      0.333     0.500     0.400         6\n",
      "      STATUS      0.500     0.143     0.222         7\n",
      "      STRIKE      0.750     0.836     0.791        61\n",
      "       WAGES      0.625     0.417     0.500        12\n",
      "\n",
      "    accuracy                          0.711       173\n",
      "   macro avg      0.536     0.469     0.477       173\n",
      "weighted avg      0.699     0.711     0.698       173\n",
      "\n",
      "Predictions saved to right_svm_sbert_predictions.csv\n",
      "\n",
      " Per-Category Top-1 Accuracy:\n",
      "Right\tTop-1 Acc\tSupport\n",
      "EQUAL\t0.14\t\t7\n",
      "GENERAL\t0.78\t\t80\n",
      "SECURITY\t0.50\t\t6\n",
      "STATUS\t0.14\t\t7\n",
      "STRIKE\t0.84\t\t61\n",
      "WAGES\t0.42\t\t12\n"
     ]
    }
   ],
   "source": [
    "# Import Libraries\n",
    "import pandas as pd, numpy as np\n",
    "from sklearn.svm import SVC\n",
    "from sklearn.model_selection import train_test_split\n",
    "from sklearn.preprocessing import LabelEncoder\n",
    "from sklearn.metrics import accuracy_score, classification_report, precision_recall_fscore_support\n",
    "from sentence_transformers import SentenceTransformer\n",
    "from collections import defaultdict\n",
    "import joblib\n",
    "\n",
    "# Import data\n",
    "from google.colab import files\n",
    "uploaded = files.upload()\n",
    "\n",
    "RANDOM_STATE = 42\n",
    "\n",
    "# Load and prepare data\n",
    "df = pd.read_excel(\"MANUALLY_ANNOTATED_DATA.xlsx\")[['text','right']].dropna()\n",
    "df['text'] = df['text'].astype(str)\n",
    "\n",
    "label_encoder = LabelEncoder()\n",
    "df['label'] = label_encoder.fit_transform(df['right'])\n",
    "\n",
    "X_train_texts, X_test_texts, y_train, y_test = train_test_split(\n",
    "    df['text'], df['label'],\n",
    "    stratify=df['label'], test_size=0.2, random_state=RANDOM_STATE\n",
    ")\n",
    "\n",
    "# SBERT embeddings\n",
    "print(\"Encoding SBERT embeddings...\")\n",
    "sbert = SentenceTransformer('paraphrase-multilingual-mpnet-base-v2')\n",
    "X_train = sbert.encode(X_train_texts.tolist(), show_progress_bar=True)\n",
    "X_test  = sbert.encode(X_test_texts.tolist(),  show_progress_bar=True)\n",
    "\n",
    "# Train linear SVM\n",
    "print(\"Training linear SVM (C=1, no class weights, no probabilities)...\")\n",
    "svm = SVC(kernel='linear', C=1, class_weight=None, probability=False, random_state=RANDOM_STATE)\n",
    "svm.fit(X_train, y_train)\n",
    "\n",
    "# Save model and encoder for pipeline reuse\n",
    "joblib.dump(svm, \"right_sbert_model.joblib\")\n",
    "joblib.dump(label_encoder, \"right_label_encoder.joblib\")\n",
    "joblib.dump({\"features\": \"SBERT\", \"C\": 1, \"class_weight\": None, \"probabilities\": False},\n",
    "            \"right_model_config.joblib\")\n",
    "print(\"Saved: right_sbert_model.joblib, right_label_encoder.joblib, right_model_config.joblib\")\n",
    "\n",
    "# Predict & evaluate (single label)\n",
    "y_pred = svm.predict(X_test)\n",
    "\n",
    "top1_acc = accuracy_score(y_test, y_pred)\n",
    "macro_prf = precision_recall_fscore_support(y_test, y_pred, average=\"macro\", zero_division=0)\n",
    "weighted_prf = precision_recall_fscore_support(y_test, y_pred, average=\"weighted\", zero_division=0)\n",
    "\n",
    "print(f\"\\nTop-1 Accuracy: {top1_acc:.3f}\")\n",
    "print(f\" Macro P/R/F1: {macro_prf[0]:.3f} / {macro_prf[1]:.3f} / {macro_prf[2]:.3f}\")\n",
    "print(f\" Weighted P/R/F1: {weighted_prf[0]:.3f} / {weighted_prf[1]:.3f} / {weighted_prf[2]:.3f}\")\n",
    "\n",
    "print(\"\\n Classification report (Top-1):\\n\",\n",
    "      classification_report(y_test, y_pred, target_names=label_encoder.classes_, digits=3, zero_division=0))\n",
    "\n",
    "# Save detailed predictions and per-class accuracy\n",
    "results, per_class = [], defaultdict(lambda: [0, 0])\n",
    "for i in range(len(X_test_texts)):\n",
    "    true = y_test.iloc[i]\n",
    "    pred = y_pred[i]\n",
    "    results.append({\n",
    "        \"text\": X_test_texts.iloc[i],\n",
    "        \"true_label\": label_encoder.inverse_transform([true])[0],\n",
    "        \"prediction\": label_encoder.inverse_transform([pred])[0]\n",
    "    })\n",
    "    lab = label_encoder.inverse_transform([true])[0]\n",
    "    per_class[lab][1] += 1\n",
    "    if true == pred:\n",
    "        per_class[lab][0] += 1\n",
    "\n",
    "pd.DataFrame(results).to_csv(\"right_svm_sbert_predictions.csv\", index=False)\n",
    "print(\"Predictions saved to right_svm_sbert_predictions.csv\")\n",
    "\n",
    "print(\"\\n Per-Category Top-1 Accuracy:\")\n",
    "print(\"Right\\tTop-1 Acc\\tSupport\")\n",
    "for lab in sorted(per_class.keys()):\n",
    "    correct, total = per_class[lab]\n",
    "    acc = correct / total if total else 0.0\n",
    "    print(f\"{lab}\\t{acc:.2f}\\t\\t{total}\")\n"
   ]
  },
  {
   "cell_type": "markdown",
   "metadata": {},
   "source": [
    "\n",
    "\n",
    "---\n",
    "# Same model but with POS tags\n",
    "---\n"
   ]
  },
  {
   "cell_type": "code",
   "execution_count": 3,
   "metadata": {
    "colab": {
     "base_uri": "https://localhost:8080/",
     "height": 498,
     "referenced_widgets": [
      "85abf69b87474879b223d553b9c582ec",
      "6458e81013ab49918e7976bdaca250d3",
      "9351fdaf13bb4316b664e6e98c9e9cb0",
      "14654c4cb3aa42bdae9f2bfef73b87c6",
      "d9db489852804090b1f3303151a058eb",
      "15509750545f47bca514b7dd65bc6aa2",
      "4edcda372ab846ae92e03905bb2cb2eb",
      "1d49836249584ff096ec8241bb20f3f6",
      "9dfd5758cc754902a9b960aa10638d95",
      "4208a34a985040298cf63339cf069f8f",
      "9be5c412581a4d9e9864fa3828c4bdb1",
      "1b2aeb9544d04a75a52d9badfcb475c7",
      "529c21d9285b4bfda2a944730b48a6a4",
      "e9983ffce61e45cd89b86479558381d9",
      "eae7d6260daf4790be1d7fc0ebea9b3b",
      "aafe5209f7a549ab816581e5fcabd7ff",
      "4bf70e58966a4b918ec67bc5f99e352a",
      "29f3b1c7cb654bb0b558d6b098d38dd7",
      "754202b9556845829718d8aaf85f245a",
      "1b9349c66a90446cbde800a73073e00c",
      "162e3a4e07a64eb09d6c5ede53d7efea",
      "8ab837f41308415ea3494d362c52ee18"
     ]
    }
   },
   "outputs": [
    {
     "name": "stdout",
     "output_type": "stream",
     "text": [
      "Encoding SBERT embeddings...\n"
     ]
    },
    {
     "data": {
      "application/vnd.jupyter.widget-view+json": {
       "model_id": "85abf69b87474879b223d553b9c582ec",
       "version_major": 2,
       "version_minor": 0
      },
      "text/plain": [
       "Batches:   0%|          | 0/22 [00:00<?, ?it/s]"
      ]
     },
     "metadata": {},
     "output_type": "display_data"
    },
    {
     "data": {
      "application/vnd.jupyter.widget-view+json": {
       "model_id": "1b2aeb9544d04a75a52d9badfcb475c7",
       "version_major": 2,
       "version_minor": 0
      },
      "text/plain": [
       "Batches:   0%|          | 0/6 [00:00<?, ?it/s]"
      ]
     },
     "metadata": {},
     "output_type": "display_data"
    },
    {
     "name": "stdout",
     "output_type": "stream",
     "text": [
      "Extracting POS features...\n",
      "Training linear SVM with POS...\n",
      "Saved: right_svm.joblib, right_label_encoder.joblib, right_model_config.joblib\n",
      "\n",
      " Top-1 Accuracy: 0.711\n",
      "Macro P/R/F1: 0.548 / 0.470 / 0.479\n",
      "Weighted P/R/F1: 0.699 / 0.711 / 0.696\n",
      "\n",
      " Classification report (Top-1):\n",
      "               precision    recall  f1-score   support\n",
      "\n",
      "       EQUAL      0.333     0.143     0.200         7\n",
      "     GENERAL      0.753     0.762     0.758        80\n",
      "    SECURITY      0.333     0.500     0.400         6\n",
      "      STATUS      0.500     0.143     0.222         7\n",
      "      STRIKE      0.743     0.852     0.794        61\n",
      "       WAGES      0.625     0.417     0.500        12\n",
      "\n",
      "    accuracy                          0.711       173\n",
      "   macro avg      0.548     0.470     0.479       173\n",
      "weighted avg      0.699     0.711     0.696       173\n",
      "\n",
      "Predictions saved to right_svm_sbert_pos_predictions.csv\n"
     ]
    }
   ],
   "source": [
    "# Import Libraries\n",
    "import pandas as pd, numpy as np\n",
    "from sklearn.svm import SVC\n",
    "from sklearn.model_selection import train_test_split\n",
    "from sklearn.preprocessing import LabelEncoder\n",
    "from sklearn.metrics import accuracy_score, classification_report, precision_recall_fscore_support\n",
    "from sentence_transformers import SentenceTransformer\n",
    "from sklearn.base import BaseEstimator, TransformerMixin\n",
    "import spacy, joblib\n",
    "\n",
    "RANDOM_STATE = 42\n",
    "\n",
    "# Load and prepare data\n",
    "df = pd.read_excel(\"MANUALLY_ANNOTATED_DATA.xlsx\")[['text','right']].dropna()\n",
    "df['text'] = df['text'].astype(str)\n",
    "\n",
    "label_encoder = LabelEncoder()\n",
    "df['label'] = label_encoder.fit_transform(df['right'])\n",
    "\n",
    "X_train_texts, X_test_texts, y_train, y_test = train_test_split(\n",
    "    df['text'], df['label'], stratify=df['label'], test_size=0.2, random_state=RANDOM_STATE\n",
    ")\n",
    "\n",
    "# SBERT embeddings\n",
    "print(\"Encoding SBERT embeddings...\")\n",
    "sbert = SentenceTransformer('paraphrase-multilingual-mpnet-base-v2')\n",
    "X_train_sbert = sbert.encode(X_train_texts.tolist(), show_progress_bar=True)\n",
    "X_test_sbert  = sbert.encode(X_test_texts.tolist(),  show_progress_bar=True)\n",
    "\n",
    "# POS tag frequency features\n",
    "print(\"Extracting POS features...\")\n",
    "nlp = spacy.load(\"en_core_web_sm\")\n",
    "\n",
    "class SpacyFeatures(BaseEstimator, TransformerMixin):\n",
    "    def __init__(self):\n",
    "        self.pos_tags = ['NOUN','VERB','ADJ','ADV','AUX','PRON','ADP','CCONJ','DET','NUM','PROPN']\n",
    "    def fit(self, X, y=None): return self\n",
    "    def transform(self, texts):\n",
    "        feats = []\n",
    "        for doc in nlp.pipe(texts, disable=[\"ner\",\"parser\"]):\n",
    "            counts = {t:0 for t in self.pos_tags}\n",
    "            for tok in doc:\n",
    "                if tok.pos_ in counts: counts[tok.pos_] += 1\n",
    "            total = sum(counts.values()) + 1e-6\n",
    "            feats.append([counts[t]/total for t in self.pos_tags])\n",
    "        return np.array(feats)\n",
    "\n",
    "X_train_pos = SpacyFeatures().fit_transform(X_train_texts)\n",
    "X_test_pos  = SpacyFeatures().fit_transform(X_test_texts)\n",
    "\n",
    "# Concatenate SBERT and POS\n",
    "X_train = np.hstack([X_train_sbert, X_train_pos])\n",
    "X_test  = np.hstack([X_test_sbert,  X_test_pos])\n",
    "\n",
    "# Train SVM\n",
    "print(\"Training linear SVM with POS...\")\n",
    "svm = SVC(kernel='linear', C=1, class_weight=None, probability=False, random_state=RANDOM_STATE)\n",
    "svm.fit(X_train, y_train)\n",
    "\n",
    "# Save model and encoder\n",
    "joblib.dump(svm, \"right_svm.joblib\")\n",
    "joblib.dump(label_encoder, \"right_label_encoder.joblib\")\n",
    "joblib.dump({\"features\":\"SBERT+POS\", \"C\":1, \"class_weight\":None, \"probability\":False}, \"right_model_config.joblib\")\n",
    "print(\"Saved: right_svm.joblib, right_label_encoder.joblib, right_model_config.joblib\")\n",
    "\n",
    "# Predict and evaluate\n",
    "scores = svm.decision_function(X_test)\n",
    "top1 = np.argmax(scores, axis=1)\n",
    "\n",
    "acc = accuracy_score(y_test, top1)\n",
    "macro_prf = precision_recall_fscore_support(y_test, top1, average=\"macro\", zero_division=0)\n",
    "weighted_prf = precision_recall_fscore_support(y_test, top1, average=\"weighted\", zero_division=0)\n",
    "\n",
    "print(f\"\\n Top-1 Accuracy: {acc:.3f}\")\n",
    "print(f\"Macro P/R/F1: {macro_prf[0]:.3f} / {macro_prf[1]:.3f} / {macro_prf[2]:.3f}\")\n",
    "print(f\"Weighted P/R/F1: {weighted_prf[0]:.3f} / {weighted_prf[1]:.3f} / {weighted_prf[2]:.3f}\")\n",
    "\n",
    "print(\"\\n Classification report (Top-1):\\n\",\n",
    "      classification_report(y_test, top1, target_names=label_encoder.classes_, digits=3, zero_division=0))\n",
    "\n",
    "# Save predictions\n",
    "out = pd.DataFrame({\n",
    "    \"text\": X_test_texts.reset_index(drop=True),\n",
    "    \"true_label\": label_encoder.inverse_transform(y_test),\n",
    "    \"pred_label\": label_encoder.inverse_transform(top1)\n",
    "})\n",
    "out.to_csv(\"right_svm_sbert_pos_predictions.csv\", index=False)\n",
    "print(\"Predictions saved to right_svm_sbert_pos_predictions.csv\")\n"
   ]
  },
  {
   "cell_type": "code",
   "execution_count": 4,
   "metadata": {
    "colab": {
     "base_uri": "https://localhost:8080/"
    }
   },
   "outputs": [
    {
     "name": "stdout",
     "output_type": "stream",
     "text": [
      "\n",
      " Per-Category Top-1 Accuracy:\n",
      "Right\tTop-1 Acc\tSupport\n",
      "EQUAL\t0.14\t\t7\n",
      "GENERAL\t0.78\t\t80\n",
      "SECURITY\t0.50\t\t6\n",
      "STATUS\t0.14\t\t7\n",
      "STRIKE\t0.84\t\t61\n",
      "WAGES\t0.42\t\t12\n"
     ]
    }
   ],
   "source": [
    "print(\"\\n Per-Category Top-1 Accuracy:\")\n",
    "print(\"Right\\tTop-1 Acc\\tSupport\")\n",
    "for lab in sorted(per_class.keys()):\n",
    "    correct, total = per_class[lab]\n",
    "    acc = correct / total if total else 0.0\n",
    "    print(f\"{lab}\\t{acc:.2f}\\t\\t{total}\")\n"
   ]
  }
 ],
 "metadata": {
  "kernelspec": {
   "display_name": "Python 3",
   "name": "python3"
  }
 },
 "nbformat": 4,
 "nbformat_minor": 0
}
