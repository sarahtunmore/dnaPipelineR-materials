{
 "cells": [
  {
   "cell_type": "markdown",
   "metadata": {},
   "source": [
    "# **Basic SVM**"
   ]
  },
  {
   "cell_type": "code",
   "execution_count": 1,
   "metadata": {
    "colab": {
     "base_uri": "https://localhost:8080/",
     "height": 1000,
     "referenced_widgets": [
      "cd0c1841eae44cae85780a69010da6c9",
      "ee019445eed942d18a2e8826209fca68",
      "5dabe5e5f3c4455eb601d47c97bb73d8",
      "f0d1dab05a1a43d69fdc300cabace8f3",
      "888f8981a2a54dccbf6de5cca1d7e64a",
      "94a6ed6a93e14dfe8d6ccc9b31f9e44c",
      "f975ce61f4a5435bb4ddc3beb659c936",
      "812c15c4642346e88dac1f3dfaeae3e8",
      "e2a8e6d3603a469bb7de5e0e7fb877f4",
      "cbf57891a884466181be71f4984decc3",
      "0cb1ad565e4d448789fefe5ba8685458",
      "bb0ecea543d445c591c8e4d4b8b275e4",
      "36e0fbd8111446c7902803c56815c51e",
      "5160521e8b8a4ae88be51d44875b5b41",
      "cc9b6a10ba634672bd8380d0deb0be32",
      "6a89ab14e48d410e9b7ba1d9285d2dc5",
      "bcdca5328c5a4fcdbda25901d46ff2dd",
      "e45853bdc1f94a37b57ad39f863ed04e",
      "a8739ac6c7d24ea1a814e87485249f75",
      "24473148398b403088051f73ac78a585",
      "d0efd00a3b3745efa2c9812be6b8cc79",
      "12ca36c4e7c147578e7e1c05df685ec9",
      "718c7508297e4d81a2b15bf7a12b0f41",
      "fc47450a48234cd6957595dce513566d",
      "a7b75e41827f4f53b1eba2f18998a9c3",
      "857a8a0e29854f1bb30511d44bc51143",
      "0e44314a65484cd4aad0e82b295bbecf",
      "9cf34704c2954151aa3a07c750a469d9",
      "b77a473c2186456b9130fd5b41bb1e43",
      "66108ed2f0774b6aa3819459b317ad6c",
      "b2a547ab5baf49c5935a0ffc3f942688",
      "2ba2a8b217f348858c95cb0065104e38",
      "3fb4ca5b5cef400189d4d4f81208471e",
      "c437ea4c5ebf4b85945bcf8b7fe33591",
      "86f5ef91c1af498794b48b3430e70a76",
      "b4e534d90e4f4ff3bb09419c8398e306",
      "f054d4152c63446884b90544e2633864",
      "2e55b582bc6549909b5c5868b67013aa",
      "683f4601027e4ae4a135a0dd3c23ee02",
      "e7671c99496b432f8ad6249cca169423",
      "251d1c442f534c089cc6138fdec08005",
      "8aba4452ee4a4b7596fa57726b95a4e6",
      "5490a185f6c14bedb0c225734448a11d",
      "89b6bd25906a4aa0bd0660375248c3fc",
      "6d7c6c3b519243119dbc000102f12b6d",
      "fc99b91dbc2441bc91bca7ae0ebb6538",
      "ba0155ec3b46461780206d0f96c43093",
      "d5d702c2830b4e64a8d73e767ee3427a",
      "0f143f19e8874607b45429cd1e888755",
      "b36ff2bf7c8e49e2821a4251e95d0349",
      "11d1fdaa6c984a4588482af571ab1a02",
      "71a028820fc945218d8b7faf369321b6",
      "d58325a791cd41f6a4e5e56e657b901e",
      "a64504cbd8e6457d9bca9396cde0c584",
      "6e1050e9c31144a0a574524f7460c660",
      "df475baaed1f4ee19c338916d272490f",
      "dd581b5a6e864692ba5a6aac96f1e063",
      "2675990b8483451aa78d0c368ccae77f",
      "3a56a132e72449b7b79b9033e9d8ae36",
      "e557db6cf536483f9168ddf982d3dbb2",
      "e5e08348f6d4483f8ce566355a2e0e74",
      "cacf8a09290a42309aeb348b6f56cdbf",
      "f75eb079602f4da3b1d10b96146874ea",
      "722d831b83f741a8893015fefa989c0e",
      "3dd57ceb488b4346a91f9a75ad8b8c9f",
      "d8c49e85cd8b45138acf650b3f78034f",
      "7f11033d32ab4721925726a44bc4d895",
      "a3ea665c625c45b3a57d47d58e7d3f7d",
      "0be45c65e9e547958171d4d0917bcee3",
      "d3ed3a46756e47a59dd5f388c28c588e",
      "8ec026e1a917415e9fb69b2e7d210067",
      "7d5b9ab22fc944489cfd327c00b06384",
      "0178801a20a847db8a81958bb2792f50",
      "2c58a4dc0aa64b0ea0e74eb306fa8ef3",
      "704e979b4d7e426a881fdb776cd1da31",
      "0b8de9722f04468392eb16c37032bdd9",
      "f71a1215d95f4d1282d13f22e5fccfed",
      "98a348e9b93a4acd96e67834078dc8d9",
      "5a18e90a480a437db654df2b320517b3",
      "0b8b6bcd549345dd95cea7bd2402b1e8",
      "d1481cc43aa243cab90b1df4329946c5",
      "e57523171aa34798948054a29d26826e",
      "a692cd29a87942c5962c942fd45bb995",
      "b15358c73e4248c69b900e45cb9e3f10",
      "b07cddbb350f49cda1f2409084afbe10",
      "8d610e62635c4f5f80918b56544acbb8",
      "e29318aaeb4445b8854724195b282362",
      "a3806536c58b42aa9f449d376da21aca",
      "823f448f310e4405bee6dc507fe26792",
      "558d93614f2f4fa8bbcd844df2c91f50",
      "c3c4357ca9e54c3bbc35c0ddfb131bf1",
      "e773390138d8436197e59359289a5a81",
      "15d49928dda54e4b9a37d88c55d76c70",
      "34a55b1b3fa64c06a214bbfe73514cec",
      "b131663034e24ca99cf63ff1e8817aa4",
      "a474219a82d7421393ec56ad4eb5cdf2",
      "bd5cd66bf8ec46f88a3946a2f4cf48a7",
      "6b462e37c9ce47a49e45b4eb78ce2692",
      "ece13b50dc0c47eabbde3e8b25aa3071",
      "a7e4d6102e2746dc946b53fcbfae02fc",
      "9d3ab0e221df47459954ad08136da27a",
      "ada16d0e47db415d94925320ddfa1494",
      "afb0624755b8452aa7e8c3e64405c0ac",
      "f1a2eddbcb774155ac3e1791f5f92572",
      "a830b923ddaa4e558459fe51ee33d7b4",
      "6d05bc11e94a4f1bae360e8f6305a782",
      "64e277f2ba034e599b3cf4e74d3abcdf",
      "8aa492240ac04c6da3237c35fb2964e7",
      "b5ebbf8527e94150a99a00e1be722f20",
      "e3806fe335ab4fc7987b05fac69fa4f3",
      "d1942fa63f0d4b59b79fd66af1e54044",
      "66ea7245d9114be594bba17a73f0f8a4",
      "447aff543b7742a19c70ce5e23a87b8e",
      "3b884f64fff74ef39bc17e03e2428b76",
      "e05712dece99477f8dbdf12be310e0fa",
      "6b5f9e2eae5344d38340aa2db5d0522e",
      "5f1dcc1265434e25bbed5bd0c8bdc964",
      "5f16059bdc31486aa6ed8ae10a3259c0",
      "f06a09cc7a924413ba0f98e14942ae17",
      "48141c378bd34e9d850b97d22cae7b27",
      "5aae77ae6c7446f18753448867e2e777"
     ]
    }
   },
   "outputs": [
    {
     "data": {
      "text/html": [
       "\n",
       "     <input type=\"file\" id=\"files-854aa0ef-93e5-4521-b7d7-cde3653fa7a4\" name=\"files[]\" multiple disabled\n",
       "        style=\"border:none\" />\n",
       "     <output id=\"result-854aa0ef-93e5-4521-b7d7-cde3653fa7a4\">\n",
       "      Upload widget is only available when the cell has been executed in the\n",
       "      current browser session. Please rerun this cell to enable.\n",
       "      </output>\n",
       "      <script>// Copyright 2017 Google LLC\n",
       "//\n",
       "// Licensed under the Apache License, Version 2.0 (the \"License\");\n",
       "// you may not use this file except in compliance with the License.\n",
       "// You may obtain a copy of the License at\n",
       "//\n",
       "//      http://www.apache.org/licenses/LICENSE-2.0\n",
       "//\n",
       "// Unless required by applicable law or agreed to in writing, software\n",
       "// distributed under the License is distributed on an \"AS IS\" BASIS,\n",
       "// WITHOUT WARRANTIES OR CONDITIONS OF ANY KIND, either express or implied.\n",
       "// See the License for the specific language governing permissions and\n",
       "// limitations under the License.\n",
       "\n",
       "/**\n",
       " * @fileoverview Helpers for google.colab Python module.\n",
       " */\n",
       "(function(scope) {\n",
       "function span(text, styleAttributes = {}) {\n",
       "  const element = document.createElement('span');\n",
       "  element.textContent = text;\n",
       "  for (const key of Object.keys(styleAttributes)) {\n",
       "    element.style[key] = styleAttributes[key];\n",
       "  }\n",
       "  return element;\n",
       "}\n",
       "\n",
       "// Max number of bytes which will be uploaded at a time.\n",
       "const MAX_PAYLOAD_SIZE = 100 * 1024;\n",
       "\n",
       "function _uploadFiles(inputId, outputId) {\n",
       "  const steps = uploadFilesStep(inputId, outputId);\n",
       "  const outputElement = document.getElementById(outputId);\n",
       "  // Cache steps on the outputElement to make it available for the next call\n",
       "  // to uploadFilesContinue from Python.\n",
       "  outputElement.steps = steps;\n",
       "\n",
       "  return _uploadFilesContinue(outputId);\n",
       "}\n",
       "\n",
       "// This is roughly an async generator (not supported in the browser yet),\n",
       "// where there are multiple asynchronous steps and the Python side is going\n",
       "// to poll for completion of each step.\n",
       "// This uses a Promise to block the python side on completion of each step,\n",
       "// then passes the result of the previous step as the input to the next step.\n",
       "function _uploadFilesContinue(outputId) {\n",
       "  const outputElement = document.getElementById(outputId);\n",
       "  const steps = outputElement.steps;\n",
       "\n",
       "  const next = steps.next(outputElement.lastPromiseValue);\n",
       "  return Promise.resolve(next.value.promise).then((value) => {\n",
       "    // Cache the last promise value to make it available to the next\n",
       "    // step of the generator.\n",
       "    outputElement.lastPromiseValue = value;\n",
       "    return next.value.response;\n",
       "  });\n",
       "}\n",
       "\n",
       "/**\n",
       " * Generator function which is called between each async step of the upload\n",
       " * process.\n",
       " * @param {string} inputId Element ID of the input file picker element.\n",
       " * @param {string} outputId Element ID of the output display.\n",
       " * @return {!Iterable<!Object>} Iterable of next steps.\n",
       " */\n",
       "function* uploadFilesStep(inputId, outputId) {\n",
       "  const inputElement = document.getElementById(inputId);\n",
       "  inputElement.disabled = false;\n",
       "\n",
       "  const outputElement = document.getElementById(outputId);\n",
       "  outputElement.innerHTML = '';\n",
       "\n",
       "  const pickedPromise = new Promise((resolve) => {\n",
       "    inputElement.addEventListener('change', (e) => {\n",
       "      resolve(e.target.files);\n",
       "    });\n",
       "  });\n",
       "\n",
       "  const cancel = document.createElement('button');\n",
       "  inputElement.parentElement.appendChild(cancel);\n",
       "  cancel.textContent = 'Cancel upload';\n",
       "  const cancelPromise = new Promise((resolve) => {\n",
       "    cancel.onclick = () => {\n",
       "      resolve(null);\n",
       "    };\n",
       "  });\n",
       "\n",
       "  // Wait for the user to pick the files.\n",
       "  const files = yield {\n",
       "    promise: Promise.race([pickedPromise, cancelPromise]),\n",
       "    response: {\n",
       "      action: 'starting',\n",
       "    }\n",
       "  };\n",
       "\n",
       "  cancel.remove();\n",
       "\n",
       "  // Disable the input element since further picks are not allowed.\n",
       "  inputElement.disabled = true;\n",
       "\n",
       "  if (!files) {\n",
       "    return {\n",
       "      response: {\n",
       "        action: 'complete',\n",
       "      }\n",
       "    };\n",
       "  }\n",
       "\n",
       "  for (const file of files) {\n",
       "    const li = document.createElement('li');\n",
       "    li.append(span(file.name, {fontWeight: 'bold'}));\n",
       "    li.append(span(\n",
       "        `(${file.type || 'n/a'}) - ${file.size} bytes, ` +\n",
       "        `last modified: ${\n",
       "            file.lastModifiedDate ? file.lastModifiedDate.toLocaleDateString() :\n",
       "                                    'n/a'} - `));\n",
       "    const percent = span('0% done');\n",
       "    li.appendChild(percent);\n",
       "\n",
       "    outputElement.appendChild(li);\n",
       "\n",
       "    const fileDataPromise = new Promise((resolve) => {\n",
       "      const reader = new FileReader();\n",
       "      reader.onload = (e) => {\n",
       "        resolve(e.target.result);\n",
       "      };\n",
       "      reader.readAsArrayBuffer(file);\n",
       "    });\n",
       "    // Wait for the data to be ready.\n",
       "    let fileData = yield {\n",
       "      promise: fileDataPromise,\n",
       "      response: {\n",
       "        action: 'continue',\n",
       "      }\n",
       "    };\n",
       "\n",
       "    // Use a chunked sending to avoid message size limits. See b/62115660.\n",
       "    let position = 0;\n",
       "    do {\n",
       "      const length = Math.min(fileData.byteLength - position, MAX_PAYLOAD_SIZE);\n",
       "      const chunk = new Uint8Array(fileData, position, length);\n",
       "      position += length;\n",
       "\n",
       "      const base64 = btoa(String.fromCharCode.apply(null, chunk));\n",
       "      yield {\n",
       "        response: {\n",
       "          action: 'append',\n",
       "          file: file.name,\n",
       "          data: base64,\n",
       "        },\n",
       "      };\n",
       "\n",
       "      let percentDone = fileData.byteLength === 0 ?\n",
       "          100 :\n",
       "          Math.round((position / fileData.byteLength) * 100);\n",
       "      percent.textContent = `${percentDone}% done`;\n",
       "\n",
       "    } while (position < fileData.byteLength);\n",
       "  }\n",
       "\n",
       "  // All done.\n",
       "  yield {\n",
       "    response: {\n",
       "      action: 'complete',\n",
       "    }\n",
       "  };\n",
       "}\n",
       "\n",
       "scope.google = scope.google || {};\n",
       "scope.google.colab = scope.google.colab || {};\n",
       "scope.google.colab._files = {\n",
       "  _uploadFiles,\n",
       "  _uploadFilesContinue,\n",
       "};\n",
       "})(self);\n",
       "</script> "
      ],
      "text/plain": [
       "<IPython.core.display.HTML object>"
      ]
     },
     "metadata": {},
     "output_type": "display_data"
    },
    {
     "name": "stdout",
     "output_type": "stream",
     "text": [
      "Saving MANUALLY_ANNOTATED_DATA.xlsx to MANUALLY_ANNOTATED_DATA.xlsx\n"
     ]
    },
    {
     "name": "stderr",
     "output_type": "stream",
     "text": [
      "/usr/local/lib/python3.12/dist-packages/huggingface_hub/utils/_auth.py:94: UserWarning: \n",
      "The secret `HF_TOKEN` does not exist in your Colab secrets.\n",
      "To authenticate with the Hugging Face Hub, create a token in your settings tab (https://huggingface.co/settings/tokens), set it as secret in your Google Colab and restart your session.\n",
      "You will be able to reuse this secret in all of your notebooks.\n",
      "Please note that authentication is recommended but still optional to access public models or datasets.\n",
      "  warnings.warn(\n"
     ]
    },
    {
     "data": {
      "application/vnd.jupyter.widget-view+json": {
       "model_id": "cd0c1841eae44cae85780a69010da6c9",
       "version_major": 2,
       "version_minor": 0
      },
      "text/plain": [
       "modules.json:   0%|          | 0.00/229 [00:00<?, ?B/s]"
      ]
     },
     "metadata": {},
     "output_type": "display_data"
    },
    {
     "data": {
      "application/vnd.jupyter.widget-view+json": {
       "model_id": "bb0ecea543d445c591c8e4d4b8b275e4",
       "version_major": 2,
       "version_minor": 0
      },
      "text/plain": [
       "config_sentence_transformers.json:   0%|          | 0.00/122 [00:00<?, ?B/s]"
      ]
     },
     "metadata": {},
     "output_type": "display_data"
    },
    {
     "data": {
      "application/vnd.jupyter.widget-view+json": {
       "model_id": "718c7508297e4d81a2b15bf7a12b0f41",
       "version_major": 2,
       "version_minor": 0
      },
      "text/plain": [
       "README.md: 0.00B [00:00, ?B/s]"
      ]
     },
     "metadata": {},
     "output_type": "display_data"
    },
    {
     "data": {
      "application/vnd.jupyter.widget-view+json": {
       "model_id": "c437ea4c5ebf4b85945bcf8b7fe33591",
       "version_major": 2,
       "version_minor": 0
      },
      "text/plain": [
       "sentence_bert_config.json:   0%|          | 0.00/53.0 [00:00<?, ?B/s]"
      ]
     },
     "metadata": {},
     "output_type": "display_data"
    },
    {
     "data": {
      "application/vnd.jupyter.widget-view+json": {
       "model_id": "6d7c6c3b519243119dbc000102f12b6d",
       "version_major": 2,
       "version_minor": 0
      },
      "text/plain": [
       "config.json:   0%|          | 0.00/723 [00:00<?, ?B/s]"
      ]
     },
     "metadata": {},
     "output_type": "display_data"
    },
    {
     "data": {
      "application/vnd.jupyter.widget-view+json": {
       "model_id": "df475baaed1f4ee19c338916d272490f",
       "version_major": 2,
       "version_minor": 0
      },
      "text/plain": [
       "model.safetensors:   0%|          | 0.00/1.11G [00:00<?, ?B/s]"
      ]
     },
     "metadata": {},
     "output_type": "display_data"
    },
    {
     "data": {
      "application/vnd.jupyter.widget-view+json": {
       "model_id": "7f11033d32ab4721925726a44bc4d895",
       "version_major": 2,
       "version_minor": 0
      },
      "text/plain": [
       "tokenizer_config.json:   0%|          | 0.00/402 [00:00<?, ?B/s]"
      ]
     },
     "metadata": {},
     "output_type": "display_data"
    },
    {
     "data": {
      "application/vnd.jupyter.widget-view+json": {
       "model_id": "98a348e9b93a4acd96e67834078dc8d9",
       "version_major": 2,
       "version_minor": 0
      },
      "text/plain": [
       "sentencepiece.bpe.model:   0%|          | 0.00/5.07M [00:00<?, ?B/s]"
      ]
     },
     "metadata": {},
     "output_type": "display_data"
    },
    {
     "data": {
      "application/vnd.jupyter.widget-view+json": {
       "model_id": "823f448f310e4405bee6dc507fe26792",
       "version_major": 2,
       "version_minor": 0
      },
      "text/plain": [
       "tokenizer.json: 0.00B [00:00, ?B/s]"
      ]
     },
     "metadata": {},
     "output_type": "display_data"
    },
    {
     "data": {
      "application/vnd.jupyter.widget-view+json": {
       "model_id": "a7e4d6102e2746dc946b53fcbfae02fc",
       "version_major": 2,
       "version_minor": 0
      },
      "text/plain": [
       "special_tokens_map.json:   0%|          | 0.00/239 [00:00<?, ?B/s]"
      ]
     },
     "metadata": {},
     "output_type": "display_data"
    },
    {
     "data": {
      "application/vnd.jupyter.widget-view+json": {
       "model_id": "d1942fa63f0d4b59b79fd66af1e54044",
       "version_major": 2,
       "version_minor": 0
      },
      "text/plain": [
       "config.json:   0%|          | 0.00/190 [00:00<?, ?B/s]"
      ]
     },
     "metadata": {},
     "output_type": "display_data"
    },
    {
     "name": "stdout",
     "output_type": "stream",
     "text": [
      "Accuracy: 0.32\n",
      "              precision    recall  f1-score   support\n",
      "\n",
      "      ACCESS       0.60      0.75      0.67         4\n",
      "        ADEQ       0.17      0.18      0.17        11\n",
      "         ADR       1.00      1.00      1.00         1\n",
      "    AUTONOMY       0.42      0.56      0.48        18\n",
      "      BALANC       0.32      0.54      0.40        13\n",
      "     COLLECT       0.22      0.33      0.27         6\n",
      "      COMPAR       0.50      0.25      0.33         4\n",
      "       COMPL       0.25      0.33      0.29         3\n",
      "      COURTS       0.00      0.00      0.00         1\n",
      "      CREATE       0.00      0.00      0.00         5\n",
      "       DETER       0.00      0.00      0.00         1\n",
      "    ECONOMIC       0.68      0.62      0.65        21\n",
      "     ENFORCE       1.00      0.33      0.50         3\n",
      "        JUST       0.08      0.07      0.07        15\n",
      "       LEGAL       0.43      0.60      0.50         5\n",
      "    PHYSICAL       0.00      0.00      0.00         3\n",
      "       POLIT       0.35      0.33      0.34        18\n",
      "       POWER       1.00      0.25      0.40         4\n",
      "      RELATE       0.27      0.25      0.26        12\n",
      "      REPLIC       0.00      0.00      0.00        12\n",
      "      RIGHTS       0.09      0.08      0.08        13\n",
      "\n",
      "    accuracy                           0.32       173\n",
      "   macro avg       0.35      0.31      0.31       173\n",
      "weighted avg       0.33      0.32      0.31       173\n",
      "\n"
     ]
    }
   ],
   "source": [
    "# Import Libraries\n",
    "import pandas as pd\n",
    "import numpy as np\n",
    "from sklearn.svm import SVC\n",
    "from sklearn.preprocessing import LabelEncoder\n",
    "from sklearn.metrics import classification_report, accuracy_score\n",
    "from sklearn.model_selection import train_test_split\n",
    "from sentence_transformers import SentenceTransformer\n",
    "\n",
    "# Load data\n",
    "from google.colab import files\n",
    "uploaded = files.upload()\n",
    "df = pd.read_excel(\"MANUALLY_ANNOTATED_DATA.xlsx\")\n",
    "\n",
    "# Prepare data\n",
    "texts = df['text'].astype(str).tolist()\n",
    "labels = df['concept'].astype(str).tolist()\n",
    "\n",
    "# Encode labels\n",
    "label_encoder = LabelEncoder()\n",
    "y = label_encoder.fit_transform(labels)\n",
    "\n",
    "# Load SBERT and compute embeddings\n",
    "model = SentenceTransformer('paraphrase-multilingual-mpnet-base-v2')\n",
    "X = model.encode(texts)\n",
    "\n",
    "# Train/test split\n",
    "X_train, X_test, y_train, y_test = train_test_split(X, y, test_size=0.2, random_state=42, stratify=y)\n",
    "\n",
    "# Train SVM\n",
    "svm = SVC(kernel='linear')\n",
    "svm.fit(X_train, y_train)\n",
    "\n",
    "# Predict\n",
    "y_pred = svm.predict(X_test)\n",
    "predicted_labels = label_encoder.inverse_transform(y_pred)\n",
    "true_labels = label_encoder.inverse_transform(y_test)\n",
    "\n",
    "# Evaluate\n",
    "print(f\"Accuracy: {accuracy_score(true_labels, predicted_labels):.2f}\")\n",
    "print(classification_report(true_labels, predicted_labels, zero_division=0))\n"
   ]
  },
  {
   "cell_type": "markdown",
   "metadata": {},
   "source": [
    "# **SVM on grouped categories**"
   ]
  },
  {
   "cell_type": "code",
   "execution_count": null,
   "metadata": {},
   "outputs": [],
   "source": [
    "# Grouping Categories together\n",
    "\n",
    "# Define mapping dictionary\n",
    "concept_mapping = {\n",
    "    # POLITICS_INSTITUTIONS\n",
    "    'COLLECT': 'POLITICS_INSTITUTIONS',\n",
    "    'POLIT': 'POLITICS_INSTITUTIONS',\n",
    "\n",
    "    # JUSTICE_RIGHTS\n",
    "    'JUST': 'JUSTICE_RIGHTS',\n",
    "    'RIGHTS': 'JUSTICE_RIGHTS',\n",
    "    'LEGAL': 'JUSTICE_RIGHTS',\n",
    "    'AUTONOMY': 'JUSTICE_RIGHTS',\n",
    "    'RELATE': 'JUSTICE_RIGHTS',\n",
    "    'POWER': 'JUSTICE_RIGHTS',\n",
    "\n",
    "    # REMEDY_DESIGN\n",
    "    'ADEQ': 'REMEDY_DESIGN',\n",
    "    'CREATE': 'REMEDY_DESIGN',\n",
    "    'REPLIC': 'REMEDY_DESIGN',\n",
    "    'BALANC': 'REMEDY_DESIGN',\n",
    "    'COMPAR': 'REMEDY_DESIGN',\n",
    "\n",
    "    # ENFORCEMENT\n",
    "    'COMPL': 'ENFORCEMENT',\n",
    "    'DETER': 'ENFORCEMENT',\n",
    "    'ENFORCE': 'ENFORCEMENT',\n",
    "    'COURTS': 'ENFORCEMENT',\n",
    "    'ACCESS': 'ENFORCEMENT',\n",
    "    'ADR': 'ENFORCEMENT',\n",
    "\n",
    "    # MATERIAL_HARM\n",
    "    'ECONOMIC': 'MATERIAL_HARM',\n",
    "    'PHYSICAL': 'MATERIAL_HARM',\n",
    "}\n",
    "\n",
    "# Apply mapping\n",
    "df['meta_concept'] = df['concept'].map(concept_mapping)\n",
    "\n",
    "# Check for any unmapped concepts\n",
    "unmapped = df[df['meta_concept'].isnull()]['concept'].unique()\n",
    "if len(unmapped) > 0:\n",
    "    print(\"Unmapped concepts found:\", unmapped)\n",
    "\n",
    "df = df[['text', 'meta_concept']]"
   ]
  },
  {
   "cell_type": "code",
   "execution_count": null,
   "metadata": {
    "colab": {
     "base_uri": "https://localhost:8080/"
    }
   },
   "outputs": [
    {
     "name": "stdout",
     "output_type": "stream",
     "text": [
      "Accuracy: 0.51\n",
      "                       precision    recall  f1-score   support\n",
      "\n",
      "          ENFORCEMENT       0.35      0.46      0.40        13\n",
      "       JUSTICE_RIGHTS       0.53      0.61      0.57        67\n",
      "        MATERIAL_HARM       0.65      0.54      0.59        24\n",
      "POLITICS_INSTITUTIONS       0.50      0.42      0.45        24\n",
      "        REMEDY_DESIGN       0.47      0.40      0.43        45\n",
      "\n",
      "             accuracy                           0.51       173\n",
      "            macro avg       0.50      0.49      0.49       173\n",
      "         weighted avg       0.51      0.51      0.51       173\n",
      "\n"
     ]
    }
   ],
   "source": [
    "# Prepare data\n",
    "texts = df['text'].astype(str).tolist()\n",
    "labels = df['meta_concept'].astype(str).tolist()\n",
    "\n",
    "# Encode labels\n",
    "label_encoder = LabelEncoder()\n",
    "y = label_encoder.fit_transform(labels)\n",
    "\n",
    "# Load SBERT and compute embeddings\n",
    "model = SentenceTransformer('paraphrase-multilingual-mpnet-base-v2')\n",
    "X = model.encode(texts)\n",
    "\n",
    "# Train/test split\n",
    "X_train, X_test, y_train, y_test = train_test_split(X, y, test_size=0.2, random_state=42, stratify=y)\n",
    "\n",
    "# Train SVM\n",
    "svm = SVC(kernel='linear')\n",
    "svm.fit(X_train, y_train)\n",
    "\n",
    "# Predict\n",
    "y_pred = svm.predict(X_test)\n",
    "predicted_labels = label_encoder.inverse_transform(y_pred)\n",
    "true_labels = label_encoder.inverse_transform(y_test)\n",
    "\n",
    "# Evaluate\n",
    "print(f\"Accuracy: {accuracy_score(true_labels, predicted_labels):.2f}\")\n",
    "print(classification_report(true_labels, predicted_labels, zero_division=0))"
   ]
  },
  {
   "cell_type": "markdown",
   "metadata": {},
   "source": [
    "# **Multi Layer Perceptron (MLP)**"
   ]
  },
  {
   "cell_type": "code",
   "execution_count": null,
   "metadata": {},
   "outputs": [],
   "source": [
    "# Import Libraries\n",
    "import pandas as pd\n",
    "import numpy as np\n",
    "from sklearn.model_selection import train_test_split\n",
    "from sklearn.preprocessing import LabelEncoder\n",
    "from sklearn.neural_network import MLPClassifier\n",
    "from sklearn.metrics import classification_report, confusion_matrix\n",
    "from sentence_transformers import SentenceTransformer"
   ]
  },
  {
   "cell_type": "code",
   "execution_count": null,
   "metadata": {
    "colab": {
     "base_uri": "https://localhost:8080/",
     "height": 798,
     "referenced_widgets": [
      "bec7921e726f440cad79ec8cb10cf873",
      "425c2de4510c448f88af0017e0b8e9e1",
      "47ae4a8d8168478195d8f26b3ccab169",
      "8c25db5ea69c4804bb0ab7fe14f40472",
      "7d7f283013ce4a1c985ca7f4de6c5412",
      "dd7a967221b44dce98e1487f9318ec7c",
      "a0d7299604604cb5a1403c903473289c",
      "93e0578030b54205b791988e2cbbac88",
      "05fbb255b8d043b8824579506ece0321",
      "5a82cdc6ddf847069cc290c785030940",
      "153398bd43354aa9a1e3872a5cdb51bd"
     ]
    }
   },
   "outputs": [
    {
     "data": {
      "application/vnd.jupyter.widget-view+json": {
       "model_id": "bec7921e726f440cad79ec8cb10cf873",
       "version_major": 2,
       "version_minor": 0
      },
      "text/plain": [
       "Batches:   0%|          | 0/27 [00:00<?, ?it/s]"
      ]
     },
     "metadata": {},
     "output_type": "display_data"
    },
    {
     "name": "stdout",
     "output_type": "stream",
     "text": [
      "              precision    recall  f1-score   support\n",
      "\n",
      "      ACCESS       0.25      0.50      0.33         2\n",
      "        ADEQ       0.23      0.21      0.22        14\n",
      "         ADR       0.00      0.00      0.00         2\n",
      "    AUTONOMY       0.47      0.47      0.47        17\n",
      "      BALANC       0.58      0.64      0.61        11\n",
      "     COLLECT       1.00      0.18      0.31        11\n",
      "      COMPAR       0.33      0.40      0.36         5\n",
      "       COMPL       0.00      0.00      0.00         6\n",
      "      COURTS       0.00      0.00      0.00         0\n",
      "      CREATE       0.12      0.20      0.15         5\n",
      "       DETER       0.00      0.00      0.00         1\n",
      "    ECONOMIC       0.67      0.90      0.77        20\n",
      "     ENFORCE       0.50      0.33      0.40         3\n",
      "        JUST       0.18      0.13      0.15        15\n",
      "       LEGAL       0.62      0.62      0.62         8\n",
      "    PHYSICAL       0.00      0.00      0.00         3\n",
      "       POLIT       0.41      0.56      0.47        16\n",
      "       POWER       0.00      0.00      0.00         3\n",
      "      RELATE       0.36      0.44      0.40         9\n",
      "      REPLIC       0.31      0.33      0.32        12\n",
      "      RIGHTS       0.45      0.50      0.48        10\n",
      "\n",
      "    accuracy                           0.42       173\n",
      "   macro avg       0.31      0.31      0.29       173\n",
      "weighted avg       0.42      0.42      0.39       173\n",
      "\n"
     ]
    },
    {
     "name": "stderr",
     "output_type": "stream",
     "text": [
      "/usr/local/lib/python3.12/dist-packages/sklearn/metrics/_classification.py:1565: UndefinedMetricWarning: Precision is ill-defined and being set to 0.0 in labels with no predicted samples. Use `zero_division` parameter to control this behavior.\n",
      "  _warn_prf(average, modifier, f\"{metric.capitalize()} is\", len(result))\n",
      "/usr/local/lib/python3.12/dist-packages/sklearn/metrics/_classification.py:1565: UndefinedMetricWarning: Recall is ill-defined and being set to 0.0 in labels with no true samples. Use `zero_division` parameter to control this behavior.\n",
      "  _warn_prf(average, modifier, f\"{metric.capitalize()} is\", len(result))\n",
      "/usr/local/lib/python3.12/dist-packages/sklearn/metrics/_classification.py:1565: UndefinedMetricWarning: Precision is ill-defined and being set to 0.0 in labels with no predicted samples. Use `zero_division` parameter to control this behavior.\n",
      "  _warn_prf(average, modifier, f\"{metric.capitalize()} is\", len(result))\n",
      "/usr/local/lib/python3.12/dist-packages/sklearn/metrics/_classification.py:1565: UndefinedMetricWarning: Recall is ill-defined and being set to 0.0 in labels with no true samples. Use `zero_division` parameter to control this behavior.\n",
      "  _warn_prf(average, modifier, f\"{metric.capitalize()} is\", len(result))\n",
      "/usr/local/lib/python3.12/dist-packages/sklearn/metrics/_classification.py:1565: UndefinedMetricWarning: Precision is ill-defined and being set to 0.0 in labels with no predicted samples. Use `zero_division` parameter to control this behavior.\n",
      "  _warn_prf(average, modifier, f\"{metric.capitalize()} is\", len(result))\n",
      "/usr/local/lib/python3.12/dist-packages/sklearn/metrics/_classification.py:1565: UndefinedMetricWarning: Recall is ill-defined and being set to 0.0 in labels with no true samples. Use `zero_division` parameter to control this behavior.\n",
      "  _warn_prf(average, modifier, f\"{metric.capitalize()} is\", len(result))\n"
     ]
    }
   ],
   "source": [
    "# Load and prepare data\n",
    "df = pd.read_excel(\"MANUALLY_ANNOTATED_DATA.xlsx\")\n",
    "df = df[['text', 'concept']]\n",
    "\n",
    "# Load SBERT model\n",
    "model = SentenceTransformer('paraphrase-multilingual-mpnet-base-v2')\n",
    "\n",
    "# Encode text\n",
    "X = model.encode(df['text'].tolist(), show_progress_bar=True)\n",
    "\n",
    "# Encode labels\n",
    "label_encoder = LabelEncoder()\n",
    "y = label_encoder.fit_transform(df['concept'])\n",
    "\n",
    "# Train/test split\n",
    "X_train, X_test, y_train, y_test = train_test_split(X, y, test_size=0.2, random_state=42)\n",
    "\n",
    "# Train classifier\n",
    "clf = MLPClassifier(hidden_layer_sizes=(256, 128), max_iter=500, random_state=42)\n",
    "clf.fit(X_train, y_train)\n",
    "\n",
    "# Evaluate\n",
    "y_pred = clf.predict(X_test)\n",
    "print(classification_report(y_test, y_pred, target_names=label_encoder.classes_))\n"
   ]
  },
  {
   "cell_type": "code",
   "execution_count": null,
   "metadata": {},
   "outputs": [],
   "source": [
    "# Grouping Categories together\n",
    "\n",
    "# Define mapping dictionary\n",
    "concept_mapping = {\n",
    "    # POLITICS_INSTITUTIONS\n",
    "    'COLLECT': 'POLITICS_INSTITUTIONS',\n",
    "    'POLIT': 'POLITICS_INSTITUTIONS',\n",
    "\n",
    "    # JUSTICE_RIGHTS\n",
    "    'JUST': 'JUSTICE_RIGHTS',\n",
    "    'RIGHTS': 'JUSTICE_RIGHTS',\n",
    "    'LEGAL': 'JUSTICE_RIGHTS',\n",
    "    'AUTONOMY': 'JUSTICE_RIGHTS',\n",
    "    'RELATE': 'JUSTICE_RIGHTS',\n",
    "    'POWER': 'JUSTICE_RIGHTS',\n",
    "\n",
    "    # REMEDY_DESIGN\n",
    "    'ADEQ': 'REMEDY_DESIGN',\n",
    "    'CREATE': 'REMEDY_DESIGN',\n",
    "    'REPLIC': 'REMEDY_DESIGN',\n",
    "    'BALANC': 'REMEDY_DESIGN',\n",
    "    'COMPAR': 'REMEDY_DESIGN',\n",
    "\n",
    "    # ENFORCEMENT\n",
    "    'COMPL': 'ENFORCEMENT',\n",
    "    'DETER': 'ENFORCEMENT',\n",
    "    'ENFORCE': 'ENFORCEMENT',\n",
    "    'COURTS': 'ENFORCEMENT',\n",
    "    'ACCESS': 'ENFORCEMENT',\n",
    "    'ADR': 'ENFORCEMENT',\n",
    "\n",
    "    # MATERIAL_HARM\n",
    "    'ECONOMIC': 'MATERIAL_HARM',\n",
    "    'PHYSICAL': 'MATERIAL_HARM',\n",
    "}\n",
    "\n",
    "# Apply mapping\n",
    "df['meta_concept'] = df['concept'].map(concept_mapping)\n",
    "\n",
    "# Check for any unmapped concepts\n",
    "unmapped = df[df['meta_concept'].isnull()]['concept'].unique()\n",
    "if len(unmapped) > 0:\n",
    "    print(\"Unmapped concepts found:\", unmapped)\n",
    "\n",
    "df = df[['text', 'meta_concept']]"
   ]
  },
  {
   "cell_type": "code",
   "execution_count": null,
   "metadata": {
    "colab": {
     "base_uri": "https://localhost:8080/",
     "height": 578,
     "referenced_widgets": [
      "482b5b79b1f444b6a98aad54e10d4698",
      "9c6b3d9484b5415990d6dc571ae70d9c",
      "aeb68b4041fd4c3981c5ffab2fcde563",
      "2bd2024b09cb4b5a90809497105302a8",
      "0c501a9f874848c9a2174128713e5b74",
      "db8257729f6f439da6191848123f7d63",
      "08575add64fe4c89b8a004c770ed20c5",
      "672de882fab942ba99a5a407ba2d19c3",
      "94e7e52923b54766a4e78000b184b892",
      "16851dd5e2734e96970be001124da824",
      "351b2ede7dff4240a767f14f23ef8a0a"
     ]
    }
   },
   "outputs": [
    {
     "data": {
      "application/vnd.jupyter.widget-view+json": {
       "model_id": "482b5b79b1f444b6a98aad54e10d4698",
       "version_major": 2,
       "version_minor": 0
      },
      "text/plain": [
       "Batches:   0%|          | 0/27 [00:00<?, ?it/s]"
      ]
     },
     "metadata": {},
     "output_type": "display_data"
    },
    {
     "name": "stdout",
     "output_type": "stream",
     "text": [
      "                       precision    recall  f1-score   support\n",
      "\n",
      "          ENFORCEMENT       0.27      0.21      0.24        14\n",
      "       JUSTICE_RIGHTS       0.54      0.68      0.60        62\n",
      "        MATERIAL_HARM       0.68      0.65      0.67        23\n",
      "POLITICS_INSTITUTIONS       0.56      0.37      0.44        27\n",
      "        REMEDY_DESIGN       0.55      0.51      0.53        47\n",
      "\n",
      "             accuracy                           0.54       173\n",
      "            macro avg       0.52      0.48      0.50       173\n",
      "         weighted avg       0.54      0.54      0.54       173\n",
      "\n",
      "                       precision    recall  f1-score   support\n",
      "\n",
      "          ENFORCEMENT       0.27      0.21      0.24        14\n",
      "       JUSTICE_RIGHTS       0.54      0.68      0.60        62\n",
      "        MATERIAL_HARM       0.68      0.65      0.67        23\n",
      "POLITICS_INSTITUTIONS       0.56      0.37      0.44        27\n",
      "        REMEDY_DESIGN       0.55      0.51      0.53        47\n",
      "\n",
      "             accuracy                           0.54       173\n",
      "            macro avg       0.52      0.48      0.50       173\n",
      "         weighted avg       0.54      0.54      0.54       173\n",
      "\n",
      "[[ 3  6  0  0  5]\n",
      " [ 3 42  1  6 10]\n",
      " [ 1  6 15  0  1]\n",
      " [ 2 10  1 10  4]\n",
      " [ 2 14  5  2 24]]\n"
     ]
    }
   ],
   "source": [
    "# Load SBERT model\n",
    "model = SentenceTransformer('paraphrase-multilingual-mpnet-base-v2')\n",
    "\n",
    "# Encode text\n",
    "X = model.encode(df['text'].tolist(), show_progress_bar=True)\n",
    "\n",
    "# Encode labels\n",
    "label_encoder = LabelEncoder()\n",
    "y = label_encoder.fit_transform(df['meta_concept'])\n",
    "\n",
    "# Train/test split\n",
    "X_train, X_test, y_train, y_test = train_test_split(X, y, test_size=0.2, random_state=42)\n",
    "\n",
    "# Train classifier\n",
    "clf = MLPClassifier(hidden_layer_sizes=(256, 128), max_iter=500, random_state=42)\n",
    "clf.fit(X_train, y_train)\n",
    "\n",
    "# Evaluate\n",
    "y_pred = clf.predict(X_test)\n",
    "print(classification_report(y_test, y_pred, target_names=label_encoder.classes_))\n",
    "\n",
    "# Evaluation only on categories observed\n",
    "labels = np.unique(y)  # all possible class indices\n",
    "print(classification_report(y_test, y_pred, labels=labels, target_names=label_encoder.classes_))\n",
    "\n",
    "print(confusion_matrix(y_test, y_pred))"
   ]
  },
  {
   "cell_type": "markdown",
   "metadata": {},
   "source": [
    "# **Ensemble method: SVM and seed sentence cosine**"
   ]
  },
  {
   "cell_type": "code",
   "execution_count": null,
   "metadata": {
    "colab": {
     "base_uri": "https://localhost:8080/",
     "height": 91
    }
   },
   "outputs": [
    {
     "data": {
      "text/html": [
       "\n",
       "     <input type=\"file\" id=\"files-f6d60925-7cdd-42a5-a848-710029990c9f\" name=\"files[]\" multiple disabled\n",
       "        style=\"border:none\" />\n",
       "     <output id=\"result-f6d60925-7cdd-42a5-a848-710029990c9f\">\n",
       "      Upload widget is only available when the cell has been executed in the\n",
       "      current browser session. Please rerun this cell to enable.\n",
       "      </output>\n",
       "      <script>// Copyright 2017 Google LLC\n",
       "//\n",
       "// Licensed under the Apache License, Version 2.0 (the \"License\");\n",
       "// you may not use this file except in compliance with the License.\n",
       "// You may obtain a copy of the License at\n",
       "//\n",
       "//      http://www.apache.org/licenses/LICENSE-2.0\n",
       "//\n",
       "// Unless required by applicable law or agreed to in writing, software\n",
       "// distributed under the License is distributed on an \"AS IS\" BASIS,\n",
       "// WITHOUT WARRANTIES OR CONDITIONS OF ANY KIND, either express or implied.\n",
       "// See the License for the specific language governing permissions and\n",
       "// limitations under the License.\n",
       "\n",
       "/**\n",
       " * @fileoverview Helpers for google.colab Python module.\n",
       " */\n",
       "(function(scope) {\n",
       "function span(text, styleAttributes = {}) {\n",
       "  const element = document.createElement('span');\n",
       "  element.textContent = text;\n",
       "  for (const key of Object.keys(styleAttributes)) {\n",
       "    element.style[key] = styleAttributes[key];\n",
       "  }\n",
       "  return element;\n",
       "}\n",
       "\n",
       "// Max number of bytes which will be uploaded at a time.\n",
       "const MAX_PAYLOAD_SIZE = 100 * 1024;\n",
       "\n",
       "function _uploadFiles(inputId, outputId) {\n",
       "  const steps = uploadFilesStep(inputId, outputId);\n",
       "  const outputElement = document.getElementById(outputId);\n",
       "  // Cache steps on the outputElement to make it available for the next call\n",
       "  // to uploadFilesContinue from Python.\n",
       "  outputElement.steps = steps;\n",
       "\n",
       "  return _uploadFilesContinue(outputId);\n",
       "}\n",
       "\n",
       "// This is roughly an async generator (not supported in the browser yet),\n",
       "// where there are multiple asynchronous steps and the Python side is going\n",
       "// to poll for completion of each step.\n",
       "// This uses a Promise to block the python side on completion of each step,\n",
       "// then passes the result of the previous step as the input to the next step.\n",
       "function _uploadFilesContinue(outputId) {\n",
       "  const outputElement = document.getElementById(outputId);\n",
       "  const steps = outputElement.steps;\n",
       "\n",
       "  const next = steps.next(outputElement.lastPromiseValue);\n",
       "  return Promise.resolve(next.value.promise).then((value) => {\n",
       "    // Cache the last promise value to make it available to the next\n",
       "    // step of the generator.\n",
       "    outputElement.lastPromiseValue = value;\n",
       "    return next.value.response;\n",
       "  });\n",
       "}\n",
       "\n",
       "/**\n",
       " * Generator function which is called between each async step of the upload\n",
       " * process.\n",
       " * @param {string} inputId Element ID of the input file picker element.\n",
       " * @param {string} outputId Element ID of the output display.\n",
       " * @return {!Iterable<!Object>} Iterable of next steps.\n",
       " */\n",
       "function* uploadFilesStep(inputId, outputId) {\n",
       "  const inputElement = document.getElementById(inputId);\n",
       "  inputElement.disabled = false;\n",
       "\n",
       "  const outputElement = document.getElementById(outputId);\n",
       "  outputElement.innerHTML = '';\n",
       "\n",
       "  const pickedPromise = new Promise((resolve) => {\n",
       "    inputElement.addEventListener('change', (e) => {\n",
       "      resolve(e.target.files);\n",
       "    });\n",
       "  });\n",
       "\n",
       "  const cancel = document.createElement('button');\n",
       "  inputElement.parentElement.appendChild(cancel);\n",
       "  cancel.textContent = 'Cancel upload';\n",
       "  const cancelPromise = new Promise((resolve) => {\n",
       "    cancel.onclick = () => {\n",
       "      resolve(null);\n",
       "    };\n",
       "  });\n",
       "\n",
       "  // Wait for the user to pick the files.\n",
       "  const files = yield {\n",
       "    promise: Promise.race([pickedPromise, cancelPromise]),\n",
       "    response: {\n",
       "      action: 'starting',\n",
       "    }\n",
       "  };\n",
       "\n",
       "  cancel.remove();\n",
       "\n",
       "  // Disable the input element since further picks are not allowed.\n",
       "  inputElement.disabled = true;\n",
       "\n",
       "  if (!files) {\n",
       "    return {\n",
       "      response: {\n",
       "        action: 'complete',\n",
       "      }\n",
       "    };\n",
       "  }\n",
       "\n",
       "  for (const file of files) {\n",
       "    const li = document.createElement('li');\n",
       "    li.append(span(file.name, {fontWeight: 'bold'}));\n",
       "    li.append(span(\n",
       "        `(${file.type || 'n/a'}) - ${file.size} bytes, ` +\n",
       "        `last modified: ${\n",
       "            file.lastModifiedDate ? file.lastModifiedDate.toLocaleDateString() :\n",
       "                                    'n/a'} - `));\n",
       "    const percent = span('0% done');\n",
       "    li.appendChild(percent);\n",
       "\n",
       "    outputElement.appendChild(li);\n",
       "\n",
       "    const fileDataPromise = new Promise((resolve) => {\n",
       "      const reader = new FileReader();\n",
       "      reader.onload = (e) => {\n",
       "        resolve(e.target.result);\n",
       "      };\n",
       "      reader.readAsArrayBuffer(file);\n",
       "    });\n",
       "    // Wait for the data to be ready.\n",
       "    let fileData = yield {\n",
       "      promise: fileDataPromise,\n",
       "      response: {\n",
       "        action: 'continue',\n",
       "      }\n",
       "    };\n",
       "\n",
       "    // Use a chunked sending to avoid message size limits. See b/62115660.\n",
       "    let position = 0;\n",
       "    do {\n",
       "      const length = Math.min(fileData.byteLength - position, MAX_PAYLOAD_SIZE);\n",
       "      const chunk = new Uint8Array(fileData, position, length);\n",
       "      position += length;\n",
       "\n",
       "      const base64 = btoa(String.fromCharCode.apply(null, chunk));\n",
       "      yield {\n",
       "        response: {\n",
       "          action: 'append',\n",
       "          file: file.name,\n",
       "          data: base64,\n",
       "        },\n",
       "      };\n",
       "\n",
       "      let percentDone = fileData.byteLength === 0 ?\n",
       "          100 :\n",
       "          Math.round((position / fileData.byteLength) * 100);\n",
       "      percent.textContent = `${percentDone}% done`;\n",
       "\n",
       "    } while (position < fileData.byteLength);\n",
       "  }\n",
       "\n",
       "  // All done.\n",
       "  yield {\n",
       "    response: {\n",
       "      action: 'complete',\n",
       "    }\n",
       "  };\n",
       "}\n",
       "\n",
       "scope.google = scope.google || {};\n",
       "scope.google.colab = scope.google.colab || {};\n",
       "scope.google.colab._files = {\n",
       "  _uploadFiles,\n",
       "  _uploadFilesContinue,\n",
       "};\n",
       "})(self);\n",
       "</script> "
      ],
      "text/plain": [
       "<IPython.core.display.HTML object>"
      ]
     },
     "metadata": {},
     "output_type": "display_data"
    },
    {
     "name": "stdout",
     "output_type": "stream",
     "text": [
      "Saving MANUALLY_ANNOTATED_DATA.xlsx to MANUALLY_ANNOTATED_DATA (1).xlsx\n"
     ]
    }
   ],
   "source": [
    "# Importing dataset again\n",
    "from google.colab import files\n",
    "uploaded = files.upload()"
   ]
  },
  {
   "cell_type": "code",
   "execution_count": null,
   "metadata": {
    "colab": {
     "base_uri": "https://localhost:8080/",
     "height": 517,
     "referenced_widgets": [
      "dae171569ca34d9d8512c2a4cf5476af",
      "d6a4b5ee54d04b9d9ca00ed968ddf1a8",
      "cd62c8dcfb20487d977b108c8823d2ba",
      "e4e02be0d1004572bd2932bab984b677",
      "011127a91b544c7192d776e17cd7d84f",
      "490bd3e59ce846c29f9eff81932359d9",
      "a0c2a2b9be954abc9aa994be92f0f671",
      "d763ac909a91414a8d482ed37e4c0a3f",
      "52412b45bf6246f4bd029f4d5686107d",
      "00c3da46b0194d7d847410adfc719a11",
      "529a11b78db7496fbb9b28ca5bcb0852",
      "f0d823a775b14999a4df18a18015a221",
      "8c482f59b3ac428fa84f51d7b0c32762",
      "bb7c73decb8a4877aa237371ddc186e5",
      "7f42573861df473b93626755a061826f",
      "347e886bd781436cb1966cfa7003e12d",
      "b5953d62ad4a4f45857840d3bd0fc143",
      "3f515e347082481a9ce42f0d9c4b7882",
      "26562c02b2814832965b3d071519b4c6",
      "7c612810927446229b954862ed40b038",
      "15dccb61da2c4d6fa53b364a4ad595f2",
      "bda8c5893e88434296dbaac3b854dd6c",
      "e01218ce5af44e73996192db31c44ed0",
      "cb37d4c897554e1392a51667aefccf79",
      "777417b4138b41fdb5e38bbe8bbee7bc",
      "c9472f6539aa49f085b103264b126b5e",
      "dc361a573e9e490f96adc148c2f75047",
      "26f0450ee5554a379079f0198bc67812",
      "37da4fceccfe4b2db59af652f63690a3",
      "6ea6f44fd08c493d8eaa8b4dddfe4afc",
      "ae870f406e0e4876b0cfb43b0d610bfd",
      "b67ec8219a2b4dc287e6cd3dcf912d2c",
      "58189eb944484d259d7f7dea94e3dc79",
      "4229ad5491f34c799a0624ba67a682de",
      "2e30d50c365c4f889c2b91dcc660c9ce",
      "3873a7f2819f4808a7b92a45903a7661",
      "f55ebf81e8904273ab5a4f61d576a00c",
      "8572025fbbde4c45a1b2e6ecbf84a31b",
      "115dcf0ac5fb487699923914e6c0c43e",
      "8b8f1e502db348bb9af02d20d1613905",
      "b4fb6413ae564767ab91770108e2ecc0",
      "db6eaf5edc3f4327a12900ea80a9995f",
      "58d449cf1d8e4f16bc664a574f29bab4",
      "383fa47cffcc45ca85480b1926311a21",
      "c7b94bd9fd54420eb255b4850a89537f",
      "299a137e810043268d282e7e04393ef1",
      "d7d8e4b9cb194b4cbbe57f075f8f8940",
      "7cf3ead322f54a43bf581938f7e38d71",
      "afc9a9501a424cc39163a968782f3089",
      "04dffd7ab9b44b21ac92339cee968f83",
      "1b6f2cf9ed0d44b5a9d7fa657146a75e",
      "a69466414e834740887f2d34a8ed95bb",
      "e36b69098f4e494da236eefb5d681f6a",
      "ef0aca8ac93a4f2188b9f91a3fba6052",
      "a863dd1874bc434e8a44553c5594ff57",
      "326d7e1622b34096ba7952965bec78dd",
      "52755035ca764375a7c3f51a5b0f1184",
      "39c52b9a8b6448568fd4e59437cbdaa1",
      "f4352c11015f44019c938efbd548ce0e",
      "033010ca56e54ada8b34584762b0abde",
      "65e5578bb0dc491d8eed8b2f9a978430",
      "30ea4277c3a34e23ad26bf110d891ccd",
      "6c11a4a5c3b441f5bb993c624154293b",
      "50ecf285fa464344a71b1c3cc91d4f1a",
      "f6f795ba99894296a5a433a998f584a5",
      "592e7ea95af14d4087032aad23c90c61",
      "53797b70a3ce4d218e9eaedd0b06efc5",
      "1a4a8ee34e03412885fc6ce5c3a59c04",
      "3c6b926d6e54426cbca86f1f4eec3cec",
      "e267609106b5455e8d1917586c558827",
      "87e279e9e04b40fcb6bb61344ddfa4fc",
      "de489bf891954b8a9cf625f700ed6158",
      "7d7074f799854d13b13a01a1458f7c0d",
      "69c5a585c53946d8af0b4f9fb9a3d9f2",
      "fbd7d96dbc084cb0a85a7604fb62a8a3",
      "42201f8c541549819c7964c9e432eea3",
      "5f0968ff1cec47e8aba8f6064d0b78cb",
      "111359d5b67b4134a10b80e20dc6162f",
      "2fcfdfc60e2541789400e01332da6ca3",
      "f0d88e9950be4f8696752fea3cb3a280",
      "9700f617cad643ad9eef8a061b544262",
      "9a9734a7f59946f3907e08962074a500",
      "fd477e836d6f46da8217a92330d3b624",
      "665db3aaf847483cbe72a514d25068a4",
      "1488d5d927c14de691ec11308e364b00",
      "91177dc05cb8414d9897ccb4d479b272",
      "1edbf0b1ca8d4e6f8f6d5ea80f581c8e",
      "f4eb03dcabe74ffaa356c8cb01aea692",
      "8e671e806fed407d8ae0e3fee49c3cc2",
      "6e94d84bfeec4867a74a9d1c7124274e",
      "5dc8df551dfa4051aca24d26c02183bc",
      "305ee6d15e1b40a7a9e2f8e11b0d79bc",
      "19817ebefb9c4ea9901ba1f315bf6d9b",
      "9891898e564242a0afb696d7a440174f",
      "a60f85e210b14153babd2c7e926cfb04",
      "4229b39859824e4ebc1e06abff40b02b",
      "3095ce674b3c47fab333ab90435bdf0b",
      "8f189809feaa4025a39cf8d18ef14424",
      "ee600efa99444339b5e9cdc423c39cd1",
      "6a328ee3c7d94b1b8dab5337d5b33730",
      "c9d36d99db094f01ac02d95be239ff32",
      "5f0c95b75e17476d92e98647476bedf5",
      "cb59fb6af569422ead4501fb0c002639",
      "5f940a901ea84f12be5180215c6ead76",
      "f3f7c1bd5f764e2c9cb78fa4ca466681",
      "024d05a3f4d54ec080f6dd03f735af71",
      "37c870250d4942d3b12c8bc7241f1d4c",
      "a63c67386bd747d5a5504fa17e115d56",
      "e9314eb13a904cad81e21fc3a3adbd03",
      "1312d4dc9fbb4d05b64ee4528d30e7bf",
      "d31e873d3f434dd7a9c1747eddb131ce",
      "c2a18d5ce7c5462984467102f509de7b",
      "d2e57ed9bdd04191adc37a83231d1d55",
      "045b35ef2a074fccb1af9b04bb676d75",
      "0e6e71d82911404a8c74e145a6734548",
      "4db0c798415346008f8b00f673413f98",
      "acc6691cadfd4bf9be93d19edd6f6268",
      "a442048c203540b5bf7a475484e44a49",
      "e93cbc55256e44cab879201ce80a450b",
      "819bb3de30344f74a9c8d182938a22aa",
      "c9f5c4f90a354c63b0985f2728b59506"
     ]
    }
   },
   "outputs": [
    {
     "name": "stderr",
     "output_type": "stream",
     "text": [
      "/usr/local/lib/python3.12/dist-packages/huggingface_hub/utils/_auth.py:94: UserWarning: \n",
      "The secret `HF_TOKEN` does not exist in your Colab secrets.\n",
      "To authenticate with the Hugging Face Hub, create a token in your settings tab (https://huggingface.co/settings/tokens), set it as secret in your Google Colab and restart your session.\n",
      "You will be able to reuse this secret in all of your notebooks.\n",
      "Please note that authentication is recommended but still optional to access public models or datasets.\n",
      "  warnings.warn(\n"
     ]
    },
    {
     "data": {
      "application/vnd.jupyter.widget-view+json": {
       "model_id": "dae171569ca34d9d8512c2a4cf5476af",
       "version_major": 2,
       "version_minor": 0
      },
      "text/plain": [
       "modules.json:   0%|          | 0.00/229 [00:00<?, ?B/s]"
      ]
     },
     "metadata": {},
     "output_type": "display_data"
    },
    {
     "data": {
      "application/vnd.jupyter.widget-view+json": {
       "model_id": "f0d823a775b14999a4df18a18015a221",
       "version_major": 2,
       "version_minor": 0
      },
      "text/plain": [
       "config_sentence_transformers.json:   0%|          | 0.00/122 [00:00<?, ?B/s]"
      ]
     },
     "metadata": {},
     "output_type": "display_data"
    },
    {
     "data": {
      "application/vnd.jupyter.widget-view+json": {
       "model_id": "e01218ce5af44e73996192db31c44ed0",
       "version_major": 2,
       "version_minor": 0
      },
      "text/plain": [
       "README.md: 0.00B [00:00, ?B/s]"
      ]
     },
     "metadata": {},
     "output_type": "display_data"
    },
    {
     "data": {
      "application/vnd.jupyter.widget-view+json": {
       "model_id": "4229ad5491f34c799a0624ba67a682de",
       "version_major": 2,
       "version_minor": 0
      },
      "text/plain": [
       "sentence_bert_config.json:   0%|          | 0.00/53.0 [00:00<?, ?B/s]"
      ]
     },
     "metadata": {},
     "output_type": "display_data"
    },
    {
     "data": {
      "application/vnd.jupyter.widget-view+json": {
       "model_id": "c7b94bd9fd54420eb255b4850a89537f",
       "version_major": 2,
       "version_minor": 0
      },
      "text/plain": [
       "config.json:   0%|          | 0.00/723 [00:00<?, ?B/s]"
      ]
     },
     "metadata": {},
     "output_type": "display_data"
    },
    {
     "data": {
      "application/vnd.jupyter.widget-view+json": {
       "model_id": "326d7e1622b34096ba7952965bec78dd",
       "version_major": 2,
       "version_minor": 0
      },
      "text/plain": [
       "model.safetensors:   0%|          | 0.00/1.11G [00:00<?, ?B/s]"
      ]
     },
     "metadata": {},
     "output_type": "display_data"
    },
    {
     "data": {
      "application/vnd.jupyter.widget-view+json": {
       "model_id": "53797b70a3ce4d218e9eaedd0b06efc5",
       "version_major": 2,
       "version_minor": 0
      },
      "text/plain": [
       "tokenizer_config.json:   0%|          | 0.00/402 [00:00<?, ?B/s]"
      ]
     },
     "metadata": {},
     "output_type": "display_data"
    },
    {
     "data": {
      "application/vnd.jupyter.widget-view+json": {
       "model_id": "111359d5b67b4134a10b80e20dc6162f",
       "version_major": 2,
       "version_minor": 0
      },
      "text/plain": [
       "sentencepiece.bpe.model:   0%|          | 0.00/5.07M [00:00<?, ?B/s]"
      ]
     },
     "metadata": {},
     "output_type": "display_data"
    },
    {
     "data": {
      "application/vnd.jupyter.widget-view+json": {
       "model_id": "8e671e806fed407d8ae0e3fee49c3cc2",
       "version_major": 2,
       "version_minor": 0
      },
      "text/plain": [
       "tokenizer.json: 0.00B [00:00, ?B/s]"
      ]
     },
     "metadata": {},
     "output_type": "display_data"
    },
    {
     "data": {
      "application/vnd.jupyter.widget-view+json": {
       "model_id": "6a328ee3c7d94b1b8dab5337d5b33730",
       "version_major": 2,
       "version_minor": 0
      },
      "text/plain": [
       "special_tokens_map.json:   0%|          | 0.00/239 [00:00<?, ?B/s]"
      ]
     },
     "metadata": {},
     "output_type": "display_data"
    },
    {
     "data": {
      "application/vnd.jupyter.widget-view+json": {
       "model_id": "d31e873d3f434dd7a9c1747eddb131ce",
       "version_major": 2,
       "version_minor": 0
      },
      "text/plain": [
       "config.json:   0%|          | 0.00/190 [00:00<?, ?B/s]"
      ]
     },
     "metadata": {},
     "output_type": "display_data"
    },
    {
     "name": "stdout",
     "output_type": "stream",
     "text": [
      "Ensemble accuracy: 0.173\n"
     ]
    }
   ],
   "source": [
    "# Load Libraries\n",
    "import numpy as np\n",
    "import pandas as pd\n",
    "from sklearn.svm import SVC\n",
    "from sklearn.preprocessing import LabelEncoder\n",
    "from sklearn.metrics import accuracy_score\n",
    "from sentence_transformers import SentenceTransformer, util\n",
    "\n",
    "# Load data\n",
    "df = pd.read_excel(\"MANUALLY_ANNOTATED_DATA.xlsx\")\n",
    "df = df[['text', 'concept']].dropna()\n",
    "df['text'] = df['text'].astype(str)\n",
    "\n",
    "# Encode labels\n",
    "label_encoder = LabelEncoder()\n",
    "df['label'] = label_encoder.fit_transform(df['concept'])\n",
    "\n",
    "# Train/test split\n",
    "from sklearn.model_selection import train_test_split\n",
    "texts = df['text'].tolist()\n",
    "labels = df['label'].tolist()\n",
    "X_train_texts, X_test_texts, y_train, y_test = train_test_split(texts, labels, stratify=labels, test_size=0.2, random_state=42)\n",
    "\n",
    "# Load SBERT model and embed texts\n",
    "model = SentenceTransformer('paraphrase-multilingual-mpnet-base-v2')\n",
    "X_train = model.encode(X_train_texts)\n",
    "X_test = model.encode(X_test_texts)\n",
    "\n",
    "# Train SVM with probability enabled\n",
    "svm = SVC(kernel='linear', probability=True)\n",
    "svm.fit(X_train, y_train)\n",
    "\n",
    "# Cosine similarity seeds (average 4 statements per class from training set)\n",
    "from collections import defaultdict\n",
    "seed_embeddings = {}\n",
    "max_seeds = 4\n",
    "df_train = pd.DataFrame({'text': X_train_texts, 'label': y_train})\n",
    "\n",
    "for label in np.unique(y_train):\n",
    "    examples = df_train[df_train['label'] == label]['text'].tolist()\n",
    "    sample = examples[:max_seeds]\n",
    "    emb = model.encode(sample)\n",
    "    seed_embeddings[label] = np.mean(emb, axis=0)\n",
    "\n",
    "# Ensemble prediction\n",
    "predictions = []\n",
    "confidence_threshold = 0.7\n",
    "\n",
    "for i, test_vec in enumerate(X_test):\n",
    "    probs = svm.predict_proba([test_vec])[0]\n",
    "    top_class = np.argmax(probs)\n",
    "    top_conf = probs[top_class]\n",
    "\n",
    "    if top_conf >= confidence_threshold:\n",
    "        predictions.append(top_class)\n",
    "    else:\n",
    "        # Fall back to cosine similarity\n",
    "        sims = {label: util.cos_sim(test_vec, centroid)[0][0].item()\n",
    "                for label, centroid in seed_embeddings.items()}\n",
    "        best_cosine_label = max(sims, key=sims.get)\n",
    "        predictions.append(best_cosine_label)\n",
    "\n",
    "# Evaluate\n",
    "accuracy = accuracy_score(y_test, predictions)\n",
    "print(f\"Ensemble accuracy: {accuracy:.3f}\")\n"
   ]
  },
  {
   "cell_type": "code",
   "execution_count": null,
   "metadata": {
    "colab": {
     "base_uri": "https://localhost:8080/"
    }
   },
   "outputs": [
    {
     "name": "stdout",
     "output_type": "stream",
     "text": [
      "Ensemble accuracy: 0.173\n",
      "\n",
      "Classification Report:\n",
      "               precision    recall  f1-score   support\n",
      "\n",
      "      ACCESS       0.00      0.00      0.00         4\n",
      "        ADEQ       0.00      0.00      0.00        11\n",
      "         ADR       0.50      1.00      0.67         1\n",
      "    AUTONOMY       0.43      0.17      0.24        18\n",
      "      BALANC       0.30      0.23      0.26        13\n",
      "     COLLECT       0.17      0.33      0.22         6\n",
      "      COMPAR       0.25      0.25      0.25         4\n",
      "       COMPL       0.00      0.00      0.00         3\n",
      "      COURTS       0.14      1.00      0.25         1\n",
      "      CREATE       0.12      0.40      0.19         5\n",
      "       DETER       0.00      0.00      0.00         1\n",
      "    ECONOMIC       0.12      0.05      0.07        21\n",
      "     ENFORCE       0.29      0.67      0.40         3\n",
      "        JUST       0.20      0.13      0.16        15\n",
      "       LEGAL       0.27      0.60      0.38         5\n",
      "    PHYSICAL       0.00      0.00      0.00         3\n",
      "       POLIT       0.26      0.28      0.27        18\n",
      "       POWER       0.00      0.00      0.00         4\n",
      "      RELATE       0.27      0.25      0.26        12\n",
      "      REPLIC       0.00      0.00      0.00        12\n",
      "      RIGHTS       0.11      0.08      0.09        13\n",
      "\n",
      "    accuracy                           0.17       173\n",
      "   macro avg       0.16      0.26      0.18       173\n",
      "weighted avg       0.19      0.17      0.16       173\n",
      "\n",
      "\n",
      "Confusion Matrix:\n",
      " [[0 0 0 0 0 0 0 0 0 0 0 1 0 0 0 0 0 2 0 0 1]\n",
      " [0 0 0 0 0 0 0 0 1 3 0 0 1 0 0 1 1 0 0 2 2]\n",
      " [0 0 1 0 0 0 0 0 0 0 0 0 0 0 0 0 0 0 0 0 0]\n",
      " [1 0 0 3 0 3 1 0 0 0 0 0 0 3 4 0 2 0 1 0 0]\n",
      " [0 0 0 0 3 0 0 0 0 0 1 0 0 1 0 1 1 1 1 4 0]\n",
      " [0 0 0 0 1 2 0 0 0 0 0 0 0 0 0 0 0 1 0 2 0]\n",
      " [0 0 0 0 0 0 1 0 0 2 0 1 0 0 0 0 0 0 0 0 0]\n",
      " [0 0 1 0 0 0 0 0 1 0 1 0 0 0 0 0 0 0 0 0 0]\n",
      " [0 0 0 0 0 0 0 0 1 0 0 0 0 0 0 0 0 0 0 0 0]\n",
      " [0 0 0 0 0 0 0 1 1 2 0 0 0 0 0 0 0 0 0 0 1]\n",
      " [0 0 0 0 0 0 0 0 0 0 0 0 0 0 0 0 1 0 0 0 0]\n",
      " [0 0 0 0 1 2 0 0 1 4 0 1 0 1 0 1 1 4 4 1 0]\n",
      " [0 0 0 0 0 1 0 0 0 0 0 0 2 0 0 0 0 0 0 0 0]\n",
      " [0 0 0 3 1 0 0 0 0 0 1 1 0 2 2 0 2 1 0 1 1]\n",
      " [0 0 0 0 0 0 0 0 0 0 0 0 1 0 3 0 1 0 0 0 0]\n",
      " [0 0 0 0 0 1 0 0 0 0 1 0 0 0 0 0 1 0 0 0 0]\n",
      " [0 0 0 0 3 2 0 0 0 2 0 0 0 0 0 1 5 1 2 1 1]\n",
      " [0 0 0 0 0 0 0 0 0 0 1 0 1 0 2 0 0 0 0 0 0]\n",
      " [0 1 0 0 0 0 2 0 0 1 0 1 0 0 0 0 1 3 3 0 0]\n",
      " [0 0 0 0 0 0 0 1 1 2 1 0 1 2 0 0 2 0 0 0 2]\n",
      " [0 1 0 1 1 1 0 1 1 0 0 3 1 1 0 0 1 0 0 0 1]]\n"
     ]
    }
   ],
   "source": [
    "# Import Evaluation visualisation libraries\n",
    "from sklearn.metrics import classification_report, confusion_matrix\n",
    "\n",
    "# Evaluate\n",
    "accuracy = accuracy_score(y_test, predictions)\n",
    "print(f\"Ensemble accuracy: {accuracy:.3f}\")\n",
    "\n",
    "# Classification report\n",
    "report = classification_report(y_test, predictions, target_names=label_encoder.classes_)\n",
    "print(\"\\nClassification Report:\\n\", report)\n",
    "\n",
    "# Confusion matrix (optional, for inspection)\n",
    "cm = confusion_matrix(y_test, predictions)\n",
    "print(\"\\nConfusion Matrix:\\n\", cm)\n"
   ]
  },
  {
   "cell_type": "markdown",
   "metadata": {},
   "source": [
    "# **Adding a class weighting, falls back to cosine similarity only when SVM’s top prediction confidence is below a threshold**"
   ]
  },
  {
   "cell_type": "code",
   "execution_count": 2,
   "metadata": {
    "colab": {
     "base_uri": "https://localhost:8080/",
     "height": 81,
     "referenced_widgets": [
      "15616c1cc88d418ea1bd27a540a72ff5",
      "bdb149661c0143dda9a32b21867b92ee",
      "bb8d170b54d84f0e9dc892ed9903069e",
      "62e96b467df542f28045f6951fb56361",
      "0bd78bcd9a824daa956f568139348fd8",
      "c75ca04e71394e66b5d140e870b1c7c6",
      "6cebc392142a43d084026af0dd61bf19",
      "c2fb48ca2de440af8041b87389b8c2e8",
      "7f225a360c794e0ca0f171cbb7c64faa",
      "3b347f6197774373bba7ab3d8a516845",
      "3fdec26fd4a64313a9f8baf0b94b1ca3",
      "2c44430349a147bdb68d0fae3cd0e413",
      "65317656e2b24f9eb8ddad71acec49e1",
      "b71b351f7ea8421184c70d7af21f5881",
      "747173bab5e64498bf93d5bfd04324f8",
      "08682795b5174786924d38dc73922728",
      "3ea6797c69cf43faa2665e19c87c1619",
      "33f1e1cc52b445639ad82eb36c36714e",
      "745c2f2aad924f168cd5e5ae6b38f3e9",
      "29b328ec91014256acd867927723f8c7",
      "79026e86e02a4e838e5162a3ed33b3ec",
      "2f8096b2111545b1b08b25c17aeb62a9"
     ]
    }
   },
   "outputs": [
    {
     "data": {
      "application/vnd.jupyter.widget-view+json": {
       "model_id": "15616c1cc88d418ea1bd27a540a72ff5",
       "version_major": 2,
       "version_minor": 0
      },
      "text/plain": [
       "Batches:   0%|          | 0/22 [00:00<?, ?it/s]"
      ]
     },
     "metadata": {},
     "output_type": "display_data"
    },
    {
     "data": {
      "application/vnd.jupyter.widget-view+json": {
       "model_id": "2c44430349a147bdb68d0fae3cd0e413",
       "version_major": 2,
       "version_minor": 0
      },
      "text/plain": [
       "Batches:   0%|          | 0/6 [00:00<?, ?it/s]"
      ]
     },
     "metadata": {},
     "output_type": "display_data"
    }
   ],
   "source": [
    "# Import Libraries\n",
    "import pandas as pd\n",
    "import numpy as np\n",
    "from sklearn.svm import SVC\n",
    "from sklearn.model_selection import train_test_split\n",
    "from sklearn.preprocessing import LabelEncoder\n",
    "from sklearn.metrics import accuracy_score\n",
    "from sentence_transformers import SentenceTransformer, util\n",
    "import spacy\n",
    "from sklearn.base import BaseEstimator, TransformerMixin\n",
    "from collections import Counter\n",
    "\n",
    "# Load and prepare data\n",
    "df = pd.read_excel(\"MANUALLY_ANNOTATED_DATA.xlsx\")[['text', 'concept']].dropna()\n",
    "df['text'] = df['text'].astype(str)\n",
    "\n",
    "# Encode labels\n",
    "label_encoder = LabelEncoder()\n",
    "df['label'] = label_encoder.fit_transform(df['concept'])\n",
    "\n",
    "# Train/test split\n",
    "X_train_texts, X_test_texts, y_train, y_test = train_test_split(\n",
    "    df['text'], df['label'], stratify=df['label'], test_size=0.2, random_state=42\n",
    ")\n",
    "\n",
    "# Load SBERT model\n",
    "sbert = SentenceTransformer('paraphrase-multilingual-mpnet-base-v2')\n",
    "X_train_sbert = sbert.encode(X_train_texts.tolist(), show_progress_bar=True)\n",
    "X_test_sbert = sbert.encode(X_test_texts.tolist(), show_progress_bar=True)\n",
    "\n",
    "# POS tag feature engineering\n",
    "nlp = spacy.load(\"en_core_web_sm\")\n",
    "\n",
    "class SpacyFeatures(BaseEstimator, TransformerMixin):\n",
    "    def __init__(self):\n",
    "        self.pos_tags = ['NOUN', 'VERB', 'ADJ', 'ADV', 'AUX', 'PRON', 'ADP', 'CCONJ', 'DET', 'NUM', 'PROPN']\n",
    "    def fit(self, X, y=None): return self\n",
    "    def transform(self, texts):\n",
    "        features = []\n",
    "        for doc in nlp.pipe(texts, disable=[\"ner\", \"parser\"]):\n",
    "            counts = {tag: 0 for tag in self.pos_tags}\n",
    "            for token in doc:\n",
    "                if token.pos_ in counts:\n",
    "                    counts[token.pos_] += 1\n",
    "            total = sum(counts.values()) + 1e-6\n",
    "            norm = [counts[tag] / total for tag in self.pos_tags]\n",
    "            features.append(norm)\n",
    "        return np.array(features)\n",
    "\n",
    "# Combine SBERT and POS features\n",
    "X_train_feats = np.hstack([X_train_sbert, SpacyFeatures().fit_transform(X_train_texts)])\n",
    "X_test_feats = np.hstack([X_test_sbert, SpacyFeatures().fit_transform(X_test_texts)])\n",
    "\n",
    "# Train SVM with class weights\n",
    "svm = SVC(kernel='linear', probability=True, class_weight='balanced')\n",
    "svm.fit(X_train_feats, y_train)\n",
    "\n",
    "# Create cosine similarity centroids from training data\n",
    "seed_embeddings = {}\n",
    "train_df = pd.DataFrame({'text': X_train_texts, 'label': y_train})\n",
    "for label in np.unique(y_train):\n",
    "    samples = train_df[train_df['label'] == label]['text'].tolist()[:4]\n",
    "    seed_vecs = sbert.encode(samples)\n",
    "    seed_embeddings[label] = np.mean(seed_vecs, axis=0)\n"
   ]
  },
  {
   "cell_type": "code",
   "execution_count": 3,
   "metadata": {
    "colab": {
     "base_uri": "https://localhost:8080/"
    }
   },
   "outputs": [
    {
     "name": "stdout",
     "output_type": "stream",
     "text": [
      "\n",
      " Final Accuracy: 0.225\n",
      "Cosine fallback used on 150 of 173 samples (86.7%)\n",
      "\n",
      " Predictions saved to 'svm_confidence_cosine_fallback_predictions.csv'\n"
     ]
    }
   ],
   "source": [
    "# Prediction loop with confidence-based fallback to cosine\n",
    "confidence_threshold = 0.4\n",
    "results = []\n",
    "cosine_used = 0\n",
    "\n",
    "for i, test_vec in enumerate(X_test_feats):\n",
    "    sbert_vec = X_test_sbert[i]\n",
    "    svm_probs = svm.predict_proba([test_vec])[0]\n",
    "    top_idx = np.argmax(svm_probs)\n",
    "    top_prob = svm_probs[top_idx]\n",
    "    true_label = y_test.iloc[i]\n",
    "\n",
    "    # Use cosine similarity fallback if SVM uncertain\n",
    "    if top_prob < confidence_threshold:\n",
    "        cosine_used += 1\n",
    "        cosine_scores = {\n",
    "            label: util.cos_sim(sbert_vec, centroid)[0][0].item()\n",
    "            for label, centroid in seed_embeddings.items()\n",
    "        }\n",
    "        top_idx = max(cosine_scores, key=cosine_scores.get)\n",
    "\n",
    "    results.append({\n",
    "        \"text\": X_test_texts.iloc[i],\n",
    "        \"true_label\": label_encoder.inverse_transform([true_label])[0],\n",
    "        \"predicted_label\": label_encoder.inverse_transform([top_idx])[0],\n",
    "        \"used_cosine\": top_prob < confidence_threshold\n",
    "    })\n",
    "\n",
    "# Accuracy calculation\n",
    "df_results = pd.DataFrame(results)\n",
    "accuracy = (df_results['true_label'] == df_results['predicted_label']).mean()\n",
    "\n",
    "print(f\"\\n Final Accuracy: {accuracy:.3f}\")\n",
    "print(f\"Cosine fallback used on {cosine_used} of {len(X_test_feats)} samples \"\n",
    "      f\"({cosine_used / len(X_test_feats):.1%})\")\n",
    "\n",
    "# Save predictions\n",
    "df_results.to_csv(\"svm_confidence_cosine_fallback_predictions.csv\", index=False)\n",
    "print(\"\\n Predictions saved to 'svm_confidence_cosine_fallback_predictions.csv'\")\n"
   ]
  },
  {
   "cell_type": "code",
   "execution_count": 4,
   "metadata": {
    "colab": {
     "base_uri": "https://localhost:8080/"
    }
   },
   "outputs": [
    {
     "name": "stdout",
     "output_type": "stream",
     "text": [
      "\n",
      " Final Accuracy: 0.225\n",
      " Cosine fallback used on 150 of 173 samples (86.7%)\n",
      "\n",
      "Classification Report:\n",
      "               precision    recall  f1-score   support\n",
      "\n",
      "      ACCESS       0.00      0.00      0.00         4\n",
      "        ADEQ       0.00      0.00      0.00        11\n",
      "         ADR       0.50      1.00      0.67         1\n",
      "    AUTONOMY       0.55      0.33      0.41        18\n",
      "      BALANC       0.42      0.38      0.40        13\n",
      "     COLLECT       0.17      0.33      0.22         6\n",
      "      COMPAR       0.25      0.25      0.25         4\n",
      "       COMPL       0.00      0.00      0.00         3\n",
      "      COURTS       0.14      1.00      0.25         1\n",
      "      CREATE       0.13      0.40      0.20         5\n",
      "       DETER       0.00      0.00      0.00         1\n",
      "    ECONOMIC       0.38      0.24      0.29        21\n",
      "     ENFORCE       0.29      0.67      0.40         3\n",
      "        JUST       0.12      0.07      0.09        15\n",
      "       LEGAL       0.33      0.60      0.43         5\n",
      "    PHYSICAL       0.00      0.00      0.00         3\n",
      "       POLIT       0.29      0.28      0.29        18\n",
      "       POWER       0.00      0.00      0.00         4\n",
      "      RELATE       0.33      0.25      0.29        12\n",
      "      REPLIC       0.00      0.00      0.00        12\n",
      "      RIGHTS       0.20      0.15      0.17        13\n",
      "\n",
      "    accuracy                           0.23       173\n",
      "   macro avg       0.20      0.28      0.21       173\n",
      "weighted avg       0.25      0.23      0.22       173\n",
      "\n",
      "\n",
      "Confusion Matrix:\n",
      " [[0 0 0 0 0 0 0 0 0 0 0 1 0 0 0 0 0 2 0 0 1]\n",
      " [0 0 0 0 0 0 0 0 1 3 0 1 1 0 0 1 1 0 0 1 2]\n",
      " [0 0 1 0 0 0 0 0 0 0 0 0 0 0 0 0 0 0 0 0 0]\n",
      " [1 0 0 6 0 3 1 0 0 0 0 0 0 2 2 0 2 0 1 0 0]\n",
      " [0 0 0 0 5 0 0 0 0 0 1 0 0 1 0 1 1 0 0 4 0]\n",
      " [0 0 0 0 1 2 0 0 0 0 0 0 0 0 0 0 0 1 0 2 0]\n",
      " [0 0 0 0 0 0 1 0 0 2 0 1 0 0 0 0 0 0 0 0 0]\n",
      " [0 0 1 0 0 0 0 0 1 0 1 0 0 0 0 0 0 0 0 0 0]\n",
      " [0 0 0 0 0 0 0 0 1 0 0 0 0 0 0 0 0 0 0 0 0]\n",
      " [0 0 0 0 0 0 0 1 1 2 0 0 0 0 0 0 0 0 0 0 1]\n",
      " [0 0 0 0 0 0 0 0 0 0 0 0 0 0 0 0 1 0 0 0 0]\n",
      " [0 0 0 0 1 2 0 0 1 3 0 5 0 1 0 1 0 3 3 1 0]\n",
      " [0 0 0 0 0 1 0 0 0 0 0 0 2 0 0 0 0 0 0 0 0]\n",
      " [0 0 0 4 1 0 0 0 0 0 1 1 0 1 2 0 2 1 0 1 1]\n",
      " [0 0 0 0 0 0 0 0 0 0 0 0 1 0 3 0 1 0 0 0 0]\n",
      " [0 0 0 0 0 1 0 0 0 0 1 0 0 0 0 0 1 0 0 0 0]\n",
      " [0 0 0 0 3 2 0 0 0 2 0 0 0 0 0 1 5 1 2 1 1]\n",
      " [0 0 0 0 0 0 0 0 0 0 1 0 1 0 2 0 0 0 0 0 0]\n",
      " [0 1 0 0 0 0 2 0 0 1 0 1 0 1 0 0 0 3 3 0 0]\n",
      " [0 0 0 0 0 0 0 1 1 2 1 0 1 2 0 0 2 0 0 0 2]\n",
      " [0 1 0 1 1 1 0 1 1 0 0 3 1 0 0 0 1 0 0 0 2]]\n"
     ]
    }
   ],
   "source": [
    "# Import Evaluation visualisation libraries\n",
    "from sklearn.metrics import classification_report, confusion_matrix\n",
    "\n",
    "# Accuracy calculation\n",
    "df_results = pd.DataFrame(results)\n",
    "accuracy = (df_results['true_label'] == df_results['predicted_label']).mean()\n",
    "\n",
    "print(f\"\\n Final Accuracy: {accuracy:.3f}\")\n",
    "print(f\" Cosine fallback used on {cosine_used} of {len(X_test_feats)} samples \"\n",
    "      f\"({cosine_used / len(X_test_feats):.1%})\")\n",
    "\n",
    "# Encode back into numeric form for sklearn metrics\n",
    "y_true = label_encoder.transform(df_results['true_label'])\n",
    "y_pred = label_encoder.transform(df_results['predicted_label'])\n",
    "\n",
    "# Classification report\n",
    "report = classification_report(y_true, y_pred, target_names=label_encoder.classes_)\n",
    "print(\"\\nClassification Report:\\n\", report)\n",
    "\n",
    "# Confusion matrix\n",
    "cm = confusion_matrix(y_true, y_pred)\n",
    "print(\"\\nConfusion Matrix:\\n\", cm)\n",
    "\n",
    "# Save for future inspection\n",
    "report_dict = classification_report(y_true, y_pred, target_names=label_encoder.classes_, output_dict=True)\n",
    "report_df = pd.DataFrame(report_dict).transpose()\n",
    "report_df.to_excel(\"ensemble_POS_classification_report.xlsx\")\n"
   ]
  }
 ],
 "metadata": {
  "kernelspec": {
   "display_name": "Python 3",
   "name": "python3"
  }
 },
 "nbformat": 4,
 "nbformat_minor": 0
}
